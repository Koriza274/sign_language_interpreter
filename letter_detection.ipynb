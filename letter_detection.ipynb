{
 "cells": [
  {
   "cell_type": "code",
   "execution_count": 4,
   "id": "59ff7cbf-c0b0-4d05-bcf3-71c7ddd83021",
   "metadata": {},
   "outputs": [],
   "source": [
    "import cv2\n",
    "import mediapipe as mp\n",
    "import numpy as np\n",
    "import os\n",
    "import time\n",
    "import tensorflow as tf\n",
    "from sklearn.preprocessing import LabelEncoder\n",
    "from sklearn.model_selection import train_test_split\n",
    "from tensorflow.keras.utils import to_categorical\n",
    "from tensorflow.keras.models import Sequential\n",
    "from tensorflow.keras.layers import Conv1D, MaxPooling1D, Flatten, Dense, Dropout\n",
    "from tensorflow.keras.models import save_model, load_model\n",
    "from tensorflow.keras.callbacks import EarlyStopping\n"
   ]
  },
  {
   "cell_type": "code",
   "execution_count": 5,
   "id": "a42d2742-a79a-4446-9bd1-71084cc4ed66",
   "metadata": {},
   "outputs": [],
   "source": [
    "def adjust_brightness_contrast(image, brightness=40, contrast=1.0):\n",
    "    # Convert to float to prevent clipping\n",
    "    img = image.astype(np.float32)\n",
    "    # Adjust brightness and contrast\n",
    "    img = img * contrast + brightness\n",
    "    # Clip to keep pixel values between 0 and 255 and convert back to uint8\n",
    "    img = np.clip(img, 0, 255).astype(np.uint8)\n",
    "    return img"
   ]
  },
  {
   "cell_type": "code",
   "execution_count": 8,
   "id": "85080eab-f7df-47db-8619-0454aa6dbed0",
   "metadata": {},
   "outputs": [
    {
     "name": "stderr",
     "output_type": "stream",
     "text": [
      "I0000 00:00:1730372704.244335 3554514 gl_context.cc:357] GL version: 2.1 (2.1 Metal - 88), renderer: Apple M1 Pro\n",
      "W0000 00:00:1730372704.258532 3684493 inference_feedback_manager.cc:114] Feedback manager requires a model with a single signature inference. Disabling support for feedback tensors.\n",
      "W0000 00:00:1730372704.264567 3684494 inference_feedback_manager.cc:114] Feedback manager requires a model with a single signature inference. Disabling support for feedback tensors.\n"
     ]
    }
   ],
   "source": [
    "# Initialize MediaPipe Hand model\n",
    "mp_hands = mp.solutions.hands\n",
    "hands = mp_hands.Hands(static_image_mode=True, max_num_hands=1, min_detection_confidence=0.7)\n",
    "mp_drawing = mp.solutions.drawing_utils\n",
    "\n",
    "# Path where images are stored for each letter in the ASL alphabet\n",
    "data_dir = \"raw_data/asl_alphabet_train/asl_alphabet_train\" # Change according to local dataset\n",
    "\n",
    "landmark_data = []\n",
    "labels = []"
   ]
  },
  {
   "cell_type": "code",
   "execution_count": 10,
   "id": "adbe77d0-18a4-4ae7-93b6-cfca0d3529db",
   "metadata": {},
   "outputs": [
    {
     "name": "stderr",
     "output_type": "stream",
     "text": [
      "W0000 00:00:1730372753.710730 3684493 landmark_projection_calculator.cc:186] Using NORM_RECT without IMAGE_DIMENSIONS is only supported for the square ROI. Provide IMAGE_DIMENSIONS or use PROJECTION_MATRIX.\n",
      "/Users/wabe/.pyenv/versions/3.10.6/envs/sign_language_interpreter/lib/python3.10/site-packages/google/protobuf/symbol_database.py:55: UserWarning: SymbolDatabase.GetPrototype() is deprecated. Please use message_factory.GetMessageClass() instead. SymbolDatabase.GetPrototype() will be removed soon.\n",
      "  warnings.warn('SymbolDatabase.GetPrototype() is deprecated. Please '\n"
     ]
    },
    {
     "name": "stdout",
     "output_type": "stream",
     "text": [
      "R\n",
      "U\n",
      "I\n"
     ]
    },
    {
     "ename": "KeyboardInterrupt",
     "evalue": "",
     "output_type": "error",
     "traceback": [
      "\u001b[0;31m---------------------------------------------------------------------------\u001b[0m",
      "\u001b[0;31mKeyboardInterrupt\u001b[0m                         Traceback (most recent call last)",
      "Cell \u001b[0;32mIn[10], line 13\u001b[0m\n\u001b[1;32m     11\u001b[0m \u001b[38;5;66;03m#img = adjust_brightness_contrast(img, 20, 0.7)\u001b[39;00m\n\u001b[1;32m     12\u001b[0m img_rgb \u001b[38;5;241m=\u001b[39m cv2\u001b[38;5;241m.\u001b[39mcvtColor(img, cv2\u001b[38;5;241m.\u001b[39mCOLOR_BGR2RGB)\n\u001b[0;32m---> 13\u001b[0m results \u001b[38;5;241m=\u001b[39m \u001b[43mhands\u001b[49m\u001b[38;5;241;43m.\u001b[39;49m\u001b[43mprocess\u001b[49m\u001b[43m(\u001b[49m\u001b[43mimg_rgb\u001b[49m\u001b[43m)\u001b[49m\n\u001b[1;32m     15\u001b[0m \u001b[38;5;66;03m# Check for hand landmarks and store them\u001b[39;00m\n\u001b[1;32m     16\u001b[0m \u001b[38;5;28;01mif\u001b[39;00m results\u001b[38;5;241m.\u001b[39mmulti_hand_landmarks:\n",
      "File \u001b[0;32m~/.pyenv/versions/3.10.6/envs/sign_language_interpreter/lib/python3.10/site-packages/mediapipe/python/solutions/hands.py:153\u001b[0m, in \u001b[0;36mHands.process\u001b[0;34m(self, image)\u001b[0m\n\u001b[1;32m    132\u001b[0m \u001b[38;5;28;01mdef\u001b[39;00m \u001b[38;5;21mprocess\u001b[39m(\u001b[38;5;28mself\u001b[39m, image: np\u001b[38;5;241m.\u001b[39mndarray) \u001b[38;5;241m-\u001b[39m\u001b[38;5;241m>\u001b[39m NamedTuple:\n\u001b[1;32m    133\u001b[0m \u001b[38;5;250m  \u001b[39m\u001b[38;5;124;03m\"\"\"Processes an RGB image and returns the hand landmarks and handedness of each detected hand.\u001b[39;00m\n\u001b[1;32m    134\u001b[0m \n\u001b[1;32m    135\u001b[0m \u001b[38;5;124;03m  Args:\u001b[39;00m\n\u001b[0;32m   (...)\u001b[0m\n\u001b[1;32m    150\u001b[0m \u001b[38;5;124;03m         right hand) of the detected hand.\u001b[39;00m\n\u001b[1;32m    151\u001b[0m \u001b[38;5;124;03m  \"\"\"\u001b[39;00m\n\u001b[0;32m--> 153\u001b[0m   \u001b[38;5;28;01mreturn\u001b[39;00m \u001b[38;5;28;43msuper\u001b[39;49m\u001b[43m(\u001b[49m\u001b[43m)\u001b[49m\u001b[38;5;241;43m.\u001b[39;49m\u001b[43mprocess\u001b[49m\u001b[43m(\u001b[49m\u001b[43minput_data\u001b[49m\u001b[38;5;241;43m=\u001b[39;49m\u001b[43m{\u001b[49m\u001b[38;5;124;43m'\u001b[39;49m\u001b[38;5;124;43mimage\u001b[39;49m\u001b[38;5;124;43m'\u001b[39;49m\u001b[43m:\u001b[49m\u001b[43m \u001b[49m\u001b[43mimage\u001b[49m\u001b[43m}\u001b[49m\u001b[43m)\u001b[49m\n",
      "File \u001b[0;32m~/.pyenv/versions/3.10.6/envs/sign_language_interpreter/lib/python3.10/site-packages/mediapipe/python/solution_base.py:340\u001b[0m, in \u001b[0;36mSolutionBase.process\u001b[0;34m(self, input_data)\u001b[0m\n\u001b[1;32m    334\u001b[0m   \u001b[38;5;28;01melse\u001b[39;00m:\n\u001b[1;32m    335\u001b[0m     \u001b[38;5;28mself\u001b[39m\u001b[38;5;241m.\u001b[39m_graph\u001b[38;5;241m.\u001b[39madd_packet_to_input_stream(\n\u001b[1;32m    336\u001b[0m         stream\u001b[38;5;241m=\u001b[39mstream_name,\n\u001b[1;32m    337\u001b[0m         packet\u001b[38;5;241m=\u001b[39m\u001b[38;5;28mself\u001b[39m\u001b[38;5;241m.\u001b[39m_make_packet(input_stream_type,\n\u001b[1;32m    338\u001b[0m                                  data)\u001b[38;5;241m.\u001b[39mat(\u001b[38;5;28mself\u001b[39m\u001b[38;5;241m.\u001b[39m_simulated_timestamp))\n\u001b[0;32m--> 340\u001b[0m \u001b[38;5;28;43mself\u001b[39;49m\u001b[38;5;241;43m.\u001b[39;49m\u001b[43m_graph\u001b[49m\u001b[38;5;241;43m.\u001b[39;49m\u001b[43mwait_until_idle\u001b[49m\u001b[43m(\u001b[49m\u001b[43m)\u001b[49m\n\u001b[1;32m    341\u001b[0m \u001b[38;5;66;03m# Create a NamedTuple object where the field names are mapping to the graph\u001b[39;00m\n\u001b[1;32m    342\u001b[0m \u001b[38;5;66;03m# output stream names.\u001b[39;00m\n\u001b[1;32m    343\u001b[0m \u001b[38;5;28;01mif\u001b[39;00m \u001b[38;5;28mself\u001b[39m\u001b[38;5;241m.\u001b[39m_output_stream_type_info \u001b[38;5;129;01mis\u001b[39;00m \u001b[38;5;28;01mNone\u001b[39;00m:\n",
      "\u001b[0;31mKeyboardInterrupt\u001b[0m: "
     ]
    }
   ],
   "source": [
    "# Collect landmarks for each letter\n",
    "for letter in os.listdir(data_dir):\n",
    "    #if letter==\"C\":\n",
    "    #    break\n",
    "    letter_dir = os.path.join(data_dir, letter)\n",
    "    for i, img_path in enumerate(os.listdir(letter_dir)):\n",
    "        #if i >= 300:\n",
    "        #    break\n",
    "        img = cv2.imread(os.path.join(letter_dir, img_path))\n",
    "        img = adjust_brightness_contrast(img, 40, 1)\n",
    "        #img = adjust_brightness_contrast(img, 20, 0.7)\n",
    "        img_rgb = cv2.cvtColor(img, cv2.COLOR_BGR2RGB)\n",
    "        results = hands.process(img_rgb)\n",
    "        \n",
    "        # Check for hand landmarks and store them\n",
    "        if results.multi_hand_landmarks:\n",
    "            landmarks = []\n",
    "            for lm in results.multi_hand_landmarks[0].landmark:\n",
    "                landmarks.extend([lm.x, lm.y, lm.z])  # Flattened landmark vector\n",
    "            landmark_data.append(landmarks)\n",
    "            labels.append(letter)  # Store the label (e.g., \"A\", \"B\", etc.)\n",
    "    print(letter)"
   ]
  },
  {
   "cell_type": "code",
   "execution_count": null,
   "id": "8ae43618-4afb-4b8a-a13e-9b76ba5d971b",
   "metadata": {},
   "outputs": [],
   "source": [
    "print('done')"
   ]
  },
  {
   "cell_type": "code",
   "execution_count": 61,
   "id": "1007c947-64fc-4540-a3b0-5590a164f4a3",
   "metadata": {},
   "outputs": [
    {
     "name": "stdout",
     "output_type": "stream",
     "text": [
      "['A' 'A' 'A' ... 'Z' 'Z' 'Z']\n"
     ]
    }
   ],
   "source": [
    "# Convert to arrays for model input\n",
    "landmark_data = np.array(landmark_data)\n",
    "labels = np.array(labels)\n",
    "\n",
    "print(labels)\n",
    "# Save the arrays to .npy files\n",
    "np.save(\"landmark_data.npy\", landmark_data)\n",
    "np.save(\"labels.npy\", labels)\n",
    "\n",
    "# Normalize landmarks between 0 and 1\n",
    "landmark_data = landmark_data / np.max(landmark_data)\n",
    "\n",
    "# Encode labels as integers and convert to categorical\n",
    "label_encoder = LabelEncoder()\n",
    "labels_encoded = label_encoder.fit_transform(labels)\n",
    "labels_categorical = to_categorical(labels_encoded)"
   ]
  },
  {
   "cell_type": "code",
   "execution_count": 50,
   "id": "e139befe-5de2-4754-8169-3525b8dc6dd2",
   "metadata": {},
   "outputs": [],
   "source": [
    "# Split into train and test sets\n",
    "X_train, X_test, y_train, y_test = train_test_split(landmark_data, labels_categorical, test_size=0.2, random_state=42)"
   ]
  },
  {
   "cell_type": "code",
   "execution_count": 51,
   "id": "d17690fa-0e8f-4cd8-92d8-cce701238b1d",
   "metadata": {},
   "outputs": [],
   "source": [
    "# Build 1D CNN model\n",
    "model = Sequential([\n",
    "    Conv1D(64, 3, activation='relu', input_shape=(X_train.shape[1], 1)),\n",
    "    MaxPooling1D(2),\n",
    "    Conv1D(128, 3, activation='relu'),\n",
    "    MaxPooling1D(2),\n",
    "    Flatten(),\n",
    "    Dense(128, activation='relu'),\n",
    "    Dropout(0.5),\n",
    "    Dense(len(label_encoder.classes_), activation='softmax')\n",
    "])"
   ]
  },
  {
   "cell_type": "code",
   "execution_count": 52,
   "id": "5706e7e1-10e3-4d16-b2d7-7ea0234e116d",
   "metadata": {},
   "outputs": [
    {
     "name": "stdout",
     "output_type": "stream",
     "text": [
      "Epoch 1/40\n",
      "1633/1633 [==============================] - 8s 5ms/step - loss: 0.9426 - accuracy: 0.7157 - val_loss: 0.1541 - val_accuracy: 0.9646\n",
      "Epoch 2/40\n",
      "1633/1633 [==============================] - 7s 5ms/step - loss: 0.2773 - accuracy: 0.9155 - val_loss: 0.1043 - val_accuracy: 0.9701\n",
      "Epoch 3/40\n",
      "1633/1633 [==============================] - 8s 5ms/step - loss: 0.2128 - accuracy: 0.9353 - val_loss: 0.0754 - val_accuracy: 0.9842\n",
      "Epoch 4/40\n",
      "1633/1633 [==============================] - 8s 5ms/step - loss: 0.1761 - accuracy: 0.9472 - val_loss: 0.0698 - val_accuracy: 0.9811\n",
      "Epoch 5/40\n",
      "1633/1633 [==============================] - 8s 5ms/step - loss: 0.1552 - accuracy: 0.9528 - val_loss: 0.0661 - val_accuracy: 0.9830\n",
      "Epoch 6/40\n",
      "1633/1633 [==============================] - 8s 5ms/step - loss: 0.1384 - accuracy: 0.9588 - val_loss: 0.0553 - val_accuracy: 0.9865\n",
      "Epoch 7/40\n",
      "1633/1633 [==============================] - 8s 5ms/step - loss: 0.1250 - accuracy: 0.9622 - val_loss: 0.0515 - val_accuracy: 0.9890\n",
      "Epoch 8/40\n",
      "1633/1633 [==============================] - 8s 5ms/step - loss: 0.1194 - accuracy: 0.9630 - val_loss: 0.0629 - val_accuracy: 0.9820\n",
      "Epoch 9/40\n",
      "1633/1633 [==============================] - 8s 5ms/step - loss: 0.1101 - accuracy: 0.9660 - val_loss: 0.0454 - val_accuracy: 0.9890\n",
      "Epoch 10/40\n",
      "1633/1633 [==============================] - 9s 5ms/step - loss: 0.1035 - accuracy: 0.9674 - val_loss: 0.0420 - val_accuracy: 0.9897\n",
      "Epoch 11/40\n",
      "1633/1633 [==============================] - 9s 5ms/step - loss: 0.0973 - accuracy: 0.9705 - val_loss: 0.0402 - val_accuracy: 0.9908\n",
      "Epoch 12/40\n",
      "1633/1633 [==============================] - 9s 5ms/step - loss: 0.0941 - accuracy: 0.9714 - val_loss: 0.0396 - val_accuracy: 0.9914\n",
      "Epoch 13/40\n",
      "1633/1633 [==============================] - 9s 5ms/step - loss: 0.0867 - accuracy: 0.9733 - val_loss: 0.0359 - val_accuracy: 0.9923\n",
      "Epoch 14/40\n",
      "1633/1633 [==============================] - 9s 6ms/step - loss: 0.0841 - accuracy: 0.9744 - val_loss: 0.0374 - val_accuracy: 0.9916\n",
      "Epoch 15/40\n",
      "1633/1633 [==============================] - 9s 6ms/step - loss: 0.0879 - accuracy: 0.9726 - val_loss: 0.0349 - val_accuracy: 0.9918\n",
      "Epoch 16/40\n",
      "1633/1633 [==============================] - 9s 5ms/step - loss: 0.0801 - accuracy: 0.9752 - val_loss: 0.0327 - val_accuracy: 0.9931\n",
      "Epoch 17/40\n",
      "1633/1633 [==============================] - 9s 6ms/step - loss: 0.0772 - accuracy: 0.9759 - val_loss: 0.0381 - val_accuracy: 0.9921\n",
      "Epoch 18/40\n",
      "1633/1633 [==============================] - 9s 6ms/step - loss: 0.0705 - accuracy: 0.9787 - val_loss: 0.0397 - val_accuracy: 0.9899\n",
      "Epoch 19/40\n",
      "1633/1633 [==============================] - 9s 6ms/step - loss: 0.0721 - accuracy: 0.9780 - val_loss: 0.0360 - val_accuracy: 0.9926\n",
      "Epoch 20/40\n",
      "1633/1633 [==============================] - 9s 5ms/step - loss: 0.0682 - accuracy: 0.9786 - val_loss: 0.0368 - val_accuracy: 0.9925\n",
      "Epoch 21/40\n",
      "1633/1633 [==============================] - 9s 6ms/step - loss: 0.0683 - accuracy: 0.9789 - val_loss: 0.0346 - val_accuracy: 0.9936\n",
      "Epoch 22/40\n",
      "1633/1633 [==============================] - 10s 6ms/step - loss: 0.0657 - accuracy: 0.9797 - val_loss: 0.0307 - val_accuracy: 0.9939\n",
      "Epoch 23/40\n",
      "1633/1633 [==============================] - 9s 6ms/step - loss: 0.0668 - accuracy: 0.9796 - val_loss: 0.0351 - val_accuracy: 0.9926\n",
      "Epoch 24/40\n",
      "1633/1633 [==============================] - 9s 6ms/step - loss: 0.0635 - accuracy: 0.9804 - val_loss: 0.0290 - val_accuracy: 0.9940\n",
      "Epoch 25/40\n",
      "1633/1633 [==============================] - 9s 6ms/step - loss: 0.0602 - accuracy: 0.9821 - val_loss: 0.0353 - val_accuracy: 0.9926\n",
      "Epoch 26/40\n",
      "1633/1633 [==============================] - 9s 6ms/step - loss: 0.0605 - accuracy: 0.9817 - val_loss: 0.0298 - val_accuracy: 0.9941\n",
      "Epoch 27/40\n",
      "1633/1633 [==============================] - 9s 6ms/step - loss: 0.0594 - accuracy: 0.9812 - val_loss: 0.0287 - val_accuracy: 0.9942\n",
      "Epoch 28/40\n",
      "1633/1633 [==============================] - 9s 6ms/step - loss: 0.0570 - accuracy: 0.9829 - val_loss: 0.0306 - val_accuracy: 0.9940\n",
      "Epoch 29/40\n",
      "1633/1633 [==============================] - 9s 6ms/step - loss: 0.0555 - accuracy: 0.9830 - val_loss: 0.0285 - val_accuracy: 0.9947\n",
      "Epoch 30/40\n",
      "1633/1633 [==============================] - 9s 6ms/step - loss: 0.0557 - accuracy: 0.9831 - val_loss: 0.0286 - val_accuracy: 0.9946\n",
      "Epoch 31/40\n",
      "1633/1633 [==============================] - 9s 6ms/step - loss: 0.0539 - accuracy: 0.9837 - val_loss: 0.0271 - val_accuracy: 0.9938\n",
      "Epoch 32/40\n",
      "1633/1633 [==============================] - 10s 6ms/step - loss: 0.0545 - accuracy: 0.9832 - val_loss: 0.0236 - val_accuracy: 0.9950\n",
      "Epoch 33/40\n",
      "1633/1633 [==============================] - 10s 6ms/step - loss: 0.0534 - accuracy: 0.9834 - val_loss: 0.0304 - val_accuracy: 0.9928\n",
      "Epoch 34/40\n",
      "1633/1633 [==============================] - 9s 6ms/step - loss: 0.0518 - accuracy: 0.9841 - val_loss: 0.0288 - val_accuracy: 0.9947\n",
      "Epoch 35/40\n",
      "1633/1633 [==============================] - 10s 6ms/step - loss: 0.0531 - accuracy: 0.9832 - val_loss: 0.0277 - val_accuracy: 0.9948\n",
      "Epoch 36/40\n",
      "1633/1633 [==============================] - 10s 6ms/step - loss: 0.0489 - accuracy: 0.9845 - val_loss: 0.0279 - val_accuracy: 0.9946\n",
      "Epoch 37/40\n",
      "1633/1633 [==============================] - 10s 6ms/step - loss: 0.0472 - accuracy: 0.9855 - val_loss: 0.0280 - val_accuracy: 0.9952\n",
      "Epoch 38/40\n",
      "1633/1633 [==============================] - 10s 6ms/step - loss: 0.0486 - accuracy: 0.9847 - val_loss: 0.0315 - val_accuracy: 0.9946\n",
      "Epoch 39/40\n",
      "1633/1633 [==============================] - 9s 6ms/step - loss: 0.0475 - accuracy: 0.9860 - val_loss: 0.0309 - val_accuracy: 0.9943\n",
      "Epoch 40/40\n",
      "1633/1633 [==============================] - 10s 6ms/step - loss: 0.0461 - accuracy: 0.9863 - val_loss: 0.0241 - val_accuracy: 0.9949\n"
     ]
    }
   ],
   "source": [
    "model.compile(optimizer='adam', loss='categorical_crossentropy', metrics=['accuracy'])\n",
    "\n",
    "es = EarlyStopping(patience = 5, restore_best_weights=True)\n",
    "\n",
    "# Train the model\n",
    "model.fit(X_train[..., np.newaxis], y_train, epochs=40, batch_size=32, validation_data=(X_test[..., np.newaxis], y_test), callbacks=es)\n",
    "#model.save(\"asl_sign_language_model.h5\")\n",
    "save_model(model, 'asl_sign_language_model.keras')"
   ]
  },
  {
   "cell_type": "code",
   "execution_count": 4,
   "id": "892ec251-7631-4d01-9a80-8277fac3ea2f",
   "metadata": {},
   "outputs": [],
   "source": [
    "# Load the trained model\n",
    "#model = tf.keras.models.load_model(\"asl_sign_language_model.h5\")\n",
    "model = tf.keras.models.load_model(\"asl_sign_language_model_tf_2.18.keras\")"
   ]
  },
  {
   "cell_type": "code",
   "execution_count": 5,
   "id": "d419c7f9-e77c-4da6-8686-5f9e4c923722",
   "metadata": {},
   "outputs": [],
   "source": [
    "# Encode labels as integers and convert to categorical\n",
    "labels = np.load(\"labels.npy\")\n",
    "\n",
    "label_encoder = LabelEncoder()\n",
    "labels_encoded = label_encoder.fit_transform(labels)\n",
    "labels_categorical = to_categorical(labels_encoded)"
   ]
  },
  {
   "cell_type": "code",
   "execution_count": null,
   "id": "873ec27c-da1e-4e24-bb02-c01dfa727638",
   "metadata": {},
   "outputs": [],
   "source": [
    "labels"
   ]
  },
  {
   "cell_type": "code",
   "execution_count": 1,
   "id": "c3c6dbce-1f4b-4e88-8855-adfa3a61cd29",
   "metadata": {
    "scrolled": true
   },
   "outputs": [
    {
     "ename": "NameError",
     "evalue": "name 'mp' is not defined",
     "output_type": "error",
     "traceback": [
      "\u001b[0;31m---------------------------------------------------------------------------\u001b[0m",
      "\u001b[0;31mNameError\u001b[0m                                 Traceback (most recent call last)",
      "Cell \u001b[0;32mIn[1], line 2\u001b[0m\n\u001b[1;32m      1\u001b[0m \u001b[38;5;66;03m# Initialize MediaPipe Hands and drawing utilities\u001b[39;00m\n\u001b[0;32m----> 2\u001b[0m mp_hands \u001b[38;5;241m=\u001b[39m \u001b[43mmp\u001b[49m\u001b[38;5;241m.\u001b[39msolutions\u001b[38;5;241m.\u001b[39mhands\n\u001b[1;32m      3\u001b[0m hands \u001b[38;5;241m=\u001b[39m mp_hands\u001b[38;5;241m.\u001b[39mHands(static_image_mode\u001b[38;5;241m=\u001b[39m\u001b[38;5;28;01mFalse\u001b[39;00m, max_num_hands\u001b[38;5;241m=\u001b[39m\u001b[38;5;241m1\u001b[39m)\n\u001b[1;32m      4\u001b[0m mp_drawing \u001b[38;5;241m=\u001b[39m mp\u001b[38;5;241m.\u001b[39msolutions\u001b[38;5;241m.\u001b[39mdrawing_utils\n",
      "\u001b[0;31mNameError\u001b[0m: name 'mp' is not defined"
     ]
    }
   ],
   "source": [
    "# Initialize MediaPipe Hands and drawing utilities\n",
    "mp_hands = mp.solutions.hands\n",
    "hands = mp_hands.Hands(static_image_mode=False, max_num_hands=1)\n",
    "mp_drawing = mp.solutions.drawing_utils\n",
    "\n",
    "# Initialize webcam\n",
    "cap = cv2.VideoCapture(0)\n",
    "\n",
    "sequence = []\n",
    "sequence_length = 1  # Set sequence length to 10 frames for rolling window approach - not working yet\n",
    "\n",
    "while cap.isOpened():\n",
    "    ret, frame = cap.read()\n",
    "    frame_rgb = cv2.cvtColor(frame, cv2.COLOR_BGR2RGB)\n",
    "    results = hands.process(frame_rgb)\n",
    "\n",
    "    if results.multi_hand_landmarks:\n",
    "        landmarks = []\n",
    "        for lm in results.multi_hand_landmarks[0].landmark:\n",
    "            landmarks.extend([lm.x, lm.y, lm.z])\n",
    "\n",
    "        # Draw hand landmarks on the frame\n",
    "        mp_drawing.draw_landmarks(\n",
    "            frame, \n",
    "            results.multi_hand_landmarks[0], \n",
    "            mp_hands.HAND_CONNECTIONS\n",
    "        )\n",
    "\n",
    "        # Append new frame landmarks to sequence\n",
    "        sequence.append(landmarks)\n",
    "        if len(sequence) > sequence_length:\n",
    "            sequence.pop(0)\n",
    "\n",
    "        # Predict only if the sequence is full\n",
    "        if len(sequence) == sequence_length:\n",
    "            sequence_input = np.array(sequence).flatten()[np.newaxis, ..., np.newaxis]\n",
    "            prediction = model.predict(sequence_input)\n",
    "            predicted_label_index = np.argmax(prediction)\n",
    "            predicted_label = label_encoder.inverse_transform([predicted_label_index])\n",
    "            confidence = prediction[0][predicted_label_index] * 100  # Get confidence percentage\n",
    "\n",
    "            # Display prediction and confidence\n",
    "            cv2.putText(frame, f\"Predicted: {predicted_label[0]} ({confidence:.2f}%)\", \n",
    "                        (10, 30), cv2.FONT_HERSHEY_SIMPLEX, 1, (0, 0, 0), 2)  # Black text color\n",
    "    \n",
    "    # Display the frame\n",
    "    cv2.imshow(\"ASL Sign Language Detection\", frame)\n",
    "    \n",
    "    # Press 'C' to terminate the loop\n",
    "    if cv2.waitKey(1) & 0xFF == ord(\"c\"):\n",
    "        break\n",
    "\n",
    "cap.release()\n",
    "cv2.destroyAllWindows()"
   ]
  },
  {
   "cell_type": "code",
   "execution_count": null,
   "id": "884e33e9-f0a6-4961-95ed-bf2e4e622d51",
   "metadata": {},
   "outputs": [],
   "source": []
  }
 ],
 "metadata": {
  "kernelspec": {
   "display_name": "Python 3 (ipykernel)",
   "language": "python",
   "name": "python3"
  },
  "language_info": {
   "codemirror_mode": {
    "name": "ipython",
    "version": 3
   },
   "file_extension": ".py",
   "mimetype": "text/x-python",
   "name": "python",
   "nbconvert_exporter": "python",
   "pygments_lexer": "ipython3",
   "version": "3.10.6"
  }
 },
 "nbformat": 4,
 "nbformat_minor": 5
}
