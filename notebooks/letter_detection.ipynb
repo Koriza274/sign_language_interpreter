{
 "cells": [
  {
   "cell_type": "code",
   "execution_count": 1,
   "id": "59ff7cbf-c0b0-4d05-bcf3-71c7ddd83021",
   "metadata": {},
   "outputs": [],
   "source": [
    "import cv2\n",
    "import mediapipe as mp\n",
    "import numpy as np\n",
    "import os\n",
    "import time\n",
    "import tensorflow as tf\n",
    "from tqdm import tqdm\n",
    "from sklearn.preprocessing import LabelEncoder\n",
    "from sklearn.model_selection import train_test_split\n",
    "from tensorflow.keras.utils import to_categorical\n",
    "from tensorflow.keras.models import Sequential\n",
    "from tensorflow.keras.layers import Conv1D, MaxPooling1D, Flatten, Dense, Dropout\n",
    "from tensorflow.keras.models import save_model, load_model\n",
    "from tensorflow.keras.callbacks import EarlyStopping\n"
   ]
  },
  {
   "cell_type": "code",
   "execution_count": 2,
   "id": "a42d2742-a79a-4446-9bd1-71084cc4ed66",
   "metadata": {},
   "outputs": [],
   "source": [
    "def adjust_brightness_contrast(image, brightness=40, contrast=1.0):\n",
    "    # Convert to float to prevent clipping\n",
    "    img = image.astype(np.float32)\n",
    "    # Adjust brightness and contrast\n",
    "    img = img * contrast + brightness\n",
    "    # Clip to keep pixel values between 0 and 255 and convert back to uint8\n",
    "    img = np.clip(img, 0, 255).astype(np.uint8)\n",
    "    return img"
   ]
  },
  {
   "cell_type": "code",
   "execution_count": 3,
   "id": "85080eab-f7df-47db-8619-0454aa6dbed0",
   "metadata": {},
   "outputs": [
    {
     "name": "stderr",
     "output_type": "stream",
     "text": [
      "WARNING: All log messages before absl::InitializeLog() is called are written to STDERR\n",
      "I0000 00:00:1730835815.338194 6166503 gl_context.cc:357] GL version: 2.1 (2.1 Metal - 88), renderer: Apple M1 Pro\n",
      "INFO: Created TensorFlow Lite XNNPACK delegate for CPU.\n",
      "W0000 00:00:1730835815.366423 6170260 inference_feedback_manager.cc:114] Feedback manager requires a model with a single signature inference. Disabling support for feedback tensors.\n",
      "W0000 00:00:1730835815.373965 6170258 inference_feedback_manager.cc:114] Feedback manager requires a model with a single signature inference. Disabling support for feedback tensors.\n"
     ]
    }
   ],
   "source": [
    "# Initialize MediaPipe Hand model\n",
    "mp_hands = mp.solutions.hands\n",
    "hands = mp_hands.Hands(static_image_mode=True, max_num_hands=1, min_detection_confidence=0.2)\n",
    "mp_drawing = mp.solutions.drawing_utils\n",
    "\n",
    "# Path where images are stored for each letter in the ASL alphabet\n",
    "data_dir = \"raw_data/asl_alphabet_train/asl_alphabet_train\" # Change according to local dataset\n",
    "\n",
    "landmark_data = []\n",
    "labels = []"
   ]
  },
  {
   "cell_type": "code",
   "execution_count": null,
   "id": "adbe77d0-18a4-4ae7-93b6-cfca0d3529db",
   "metadata": {},
   "outputs": [
    {
     "name": "stderr",
     "output_type": "stream",
     "text": [
      "W0000 00:00:1730836034.243590 6170257 landmark_projection_calculator.cc:186] Using NORM_RECT without IMAGE_DIMENSIONS is only supported for the square ROI. Provide IMAGE_DIMENSIONS or use PROJECTION_MATRIX.\n",
      "/Users/wabe/.pyenv/versions/3.10.6/envs/lewagon/lib/python3.10/site-packages/google/protobuf/symbol_database.py:55: UserWarning: SymbolDatabase.GetPrototype() is deprecated. Please use message_factory.GetMessageClass() instead. SymbolDatabase.GetPrototype() will be removed soon.\n",
      "  warnings.warn('SymbolDatabase.GetPrototype() is deprecated. Please '\n"
     ]
    },
    {
     "name": "stdout",
     "output_type": "stream",
     "text": [
      "R\n",
      "U\n",
      "I\n",
      "N\n",
      "G\n",
      "Z\n",
      "T\n",
      "S\n",
      "A\n",
      "F\n",
      "O\n",
      "H\n",
      "del\n",
      "nothing\n",
      "space\n",
      "M\n",
      "J\n",
      "C\n",
      "D\n",
      "V\n",
      "Q\n",
      "X\n",
      "E\n",
      "B\n",
      "K\n",
      "L\n",
      "Y\n",
      "P\n",
      "W\n"
     ]
    }
   ],
   "source": [
    "# Collect landmarks for each letter\n",
    "for letter in os.listdir(data_dir):\n",
    "    #if letter==\"C\":\n",
    "    #    break\n",
    "    letter_dir = os.path.join(data_dir, letter)\n",
    "    for i, img_path in enumerate(os.listdir(letter_dir)):\n",
    "        #if i >= 300:\n",
    "        #    break\n",
    "        img = cv2.imread(os.path.join(letter_dir, img_path))\n",
    "        img = adjust_brightness_contrast(img, 40, 1)\n",
    "        #img = adjust_brightness_contrast(img, 20, 0.7)\n",
    "        img_rgb = cv2.cvtColor(img, cv2.COLOR_BGR2RGB)\n",
    "        results = hands.process(img_rgb)\n",
    "\n",
    "        # Check for hand landmarks and store them\n",
    "        if results.multi_hand_landmarks:\n",
    "            landmarks = []\n",
    "            for lm in results.multi_hand_landmarks[0].landmark:\n",
    "                landmarks.extend([lm.x, lm.y, lm.z])  # Flattened landmark vector\n",
    "            landmark_data.append(landmarks)\n",
    "            labels.append(letter)  # Store the label (e.g., \"A\", \"B\", etc.)\n",
    "    print(letter)"
   ]
  },
  {
   "cell_type": "code",
   "execution_count": 6,
   "id": "8ae43618-4afb-4b8a-a13e-9b76ba5d971b",
   "metadata": {},
   "outputs": [
    {
     "name": "stdout",
     "output_type": "stream",
     "text": [
      "done\n"
     ]
    }
   ],
   "source": [
    "print('done')"
   ]
  },
  {
   "cell_type": "code",
   "execution_count": 7,
   "id": "1007c947-64fc-4540-a3b0-5590a164f4a3",
   "metadata": {},
   "outputs": [
    {
     "name": "stdout",
     "output_type": "stream",
     "text": [
      "['R' 'R' 'R' ... 'W' 'W' 'W']\n"
     ]
    }
   ],
   "source": [
    "# Convert to arrays for model input\n",
    "landmark_data = np.array(landmark_data)\n",
    "labels = np.array(labels)\n",
    "\n",
    "print(labels)\n",
    "# Save the arrays to .npy files\n",
    "np.save(\"landmark_data.npy\", landmark_data)\n",
    "np.save(\"labels.npy\", labels)\n",
    "\n",
    "# Normalize landmarks between 0 and 1\n",
    "#landmark_data = landmark_data / np.max(landmark_data)\n",
    "\n",
    "# Encode labels as integers and convert to categorical\n",
    "#label_encoder = LabelEncoder()\n",
    "#labels_encoded = label_encoder.fit_transform(labels)\n",
    "#labels_categorical = to_categorical(labels_encoded)"
   ]
  },
  {
   "cell_type": "code",
   "execution_count": null,
   "id": "2ea205fe-8543-4963-8b38-e0dda953d958",
   "metadata": {},
   "outputs": [],
   "source": []
  },
  {
   "cell_type": "code",
   "execution_count": 10,
   "id": "81f4033a-916d-444a-855d-b5d175ff4c72",
   "metadata": {},
   "outputs": [],
   "source": [
    "# Normalize landmarks relative to the wrist (landmark 0) for each frame\n",
    "normalized_landmark_data = []\n",
    "for frame in landmark_data:\n",
    "    # Extract wrist coordinates\n",
    "    wrist_x, wrist_y, wrist_z = frame[0], frame[1], frame[2]\n",
    "\n",
    "    # Normalize each landmark in the frame relative to the wrist\n",
    "    normalized_frame = []\n",
    "    for i in range(0, len(frame), 3):  # Iterate over (x, y, z) coordinates\n",
    "        normalized_x = frame[i] - wrist_x\n",
    "        normalized_y = frame[i + 1] - wrist_y\n",
    "        normalized_z = frame[i + 2] - wrist_z\n",
    "        normalized_frame.extend([normalized_x, normalized_y, normalized_z])\n",
    "\n",
    "    normalized_landmark_data.append(normalized_frame)\n",
    "\n",
    "# Convert to numpy array\n",
    "normalized_landmark_data = np.array(normalized_landmark_data)\n",
    "\n",
    "# Encode labels as integers and convert to categorical\n",
    "label_encoder = LabelEncoder()\n",
    "labels_encoded = label_encoder.fit_transform(labels)\n",
    "labels_categorical = to_categorical(labels_encoded)"
   ]
  },
  {
   "cell_type": "code",
   "execution_count": 11,
   "id": "e139befe-5de2-4754-8169-3525b8dc6dd2",
   "metadata": {},
   "outputs": [],
   "source": [
    "# Split into train and test sets\n",
    "X_train, X_test, y_train, y_test = train_test_split(normalized_landmark_data, labels_categorical, test_size=0.2, random_state=42)"
   ]
  },
  {
   "cell_type": "code",
   "execution_count": 12,
   "id": "d17690fa-0e8f-4cd8-92d8-cce701238b1d",
   "metadata": {},
   "outputs": [
    {
     "name": "stderr",
     "output_type": "stream",
     "text": [
      "/Users/wabe/.pyenv/versions/3.10.6/envs/lewagon/lib/python3.10/site-packages/keras/src/layers/convolutional/base_conv.py:107: UserWarning: Do not pass an `input_shape`/`input_dim` argument to a layer. When using Sequential models, prefer using an `Input(shape)` object as the first layer in the model instead.\n",
      "  super().__init__(activity_regularizer=activity_regularizer, **kwargs)\n"
     ]
    }
   ],
   "source": [
    "# Build 1D CNN model\n",
    "model = Sequential([\n",
    "    Conv1D(64, 3, activation='relu', input_shape=(X_train.shape[1], 1)),\n",
    "    MaxPooling1D(2),\n",
    "    Conv1D(128, 3, activation='relu'),\n",
    "    MaxPooling1D(2),\n",
    "    Flatten(),\n",
    "    Dense(128, activation='relu'),\n",
    "    Dropout(0.5),\n",
    "    Dense(len(label_encoder.classes_), activation='softmax')\n",
    "])"
   ]
  },
  {
   "cell_type": "code",
   "execution_count": 13,
   "id": "5706e7e1-10e3-4d16-b2d7-7ea0234e116d",
   "metadata": {},
   "outputs": [
    {
     "name": "stdout",
     "output_type": "stream",
     "text": [
      "Epoch 1/40\n",
      "\u001b[1m5750/5750\u001b[0m \u001b[32m━━━━━━━━━━━━━━━━━━━━\u001b[0m\u001b[37m\u001b[0m \u001b[1m26s\u001b[0m 4ms/step - accuracy: 0.7984 - loss: 0.6512 - val_accuracy: 0.9833 - val_loss: 0.0580\n",
      "Epoch 2/40\n",
      "\u001b[1m5750/5750\u001b[0m \u001b[32m━━━━━━━━━━━━━━━━━━━━\u001b[0m\u001b[37m\u001b[0m \u001b[1m26s\u001b[0m 4ms/step - accuracy: 0.9659 - loss: 0.1122 - val_accuracy: 0.9898 - val_loss: 0.0409\n",
      "Epoch 3/40\n",
      "\u001b[1m5750/5750\u001b[0m \u001b[32m━━━━━━━━━━━━━━━━━━━━\u001b[0m\u001b[37m\u001b[0m \u001b[1m25s\u001b[0m 4ms/step - accuracy: 0.9772 - loss: 0.0787 - val_accuracy: 0.9921 - val_loss: 0.0339\n",
      "Epoch 4/40\n",
      "\u001b[1m5750/5750\u001b[0m \u001b[32m━━━━━━━━━━━━━━━━━━━━\u001b[0m\u001b[37m\u001b[0m \u001b[1m26s\u001b[0m 4ms/step - accuracy: 0.9817 - loss: 0.0632 - val_accuracy: 0.9915 - val_loss: 0.0347\n",
      "Epoch 5/40\n",
      "\u001b[1m5750/5750\u001b[0m \u001b[32m━━━━━━━━━━━━━━━━━━━━\u001b[0m\u001b[37m\u001b[0m \u001b[1m26s\u001b[0m 5ms/step - accuracy: 0.9844 - loss: 0.0556 - val_accuracy: 0.9942 - val_loss: 0.0247\n",
      "Epoch 6/40\n",
      "\u001b[1m5750/5750\u001b[0m \u001b[32m━━━━━━━━━━━━━━━━━━━━\u001b[0m\u001b[37m\u001b[0m \u001b[1m25s\u001b[0m 4ms/step - accuracy: 0.9866 - loss: 0.0462 - val_accuracy: 0.9943 - val_loss: 0.0245\n",
      "Epoch 7/40\n",
      "\u001b[1m5750/5750\u001b[0m \u001b[32m━━━━━━━━━━━━━━━━━━━━\u001b[0m\u001b[37m\u001b[0m \u001b[1m26s\u001b[0m 4ms/step - accuracy: 0.9876 - loss: 0.0437 - val_accuracy: 0.9946 - val_loss: 0.0220\n",
      "Epoch 8/40\n",
      "\u001b[1m5750/5750\u001b[0m \u001b[32m━━━━━━━━━━━━━━━━━━━━\u001b[0m\u001b[37m\u001b[0m \u001b[1m26s\u001b[0m 5ms/step - accuracy: 0.9889 - loss: 0.0391 - val_accuracy: 0.9951 - val_loss: 0.0203\n",
      "Epoch 9/40\n",
      "\u001b[1m5750/5750\u001b[0m \u001b[32m━━━━━━━━━━━━━━━━━━━━\u001b[0m\u001b[37m\u001b[0m \u001b[1m26s\u001b[0m 5ms/step - accuracy: 0.9899 - loss: 0.0364 - val_accuracy: 0.9954 - val_loss: 0.0194\n",
      "Epoch 10/40\n",
      "\u001b[1m5750/5750\u001b[0m \u001b[32m━━━━━━━━━━━━━━━━━━━━\u001b[0m\u001b[37m\u001b[0m \u001b[1m26s\u001b[0m 4ms/step - accuracy: 0.9899 - loss: 0.0356 - val_accuracy: 0.9955 - val_loss: 0.0196\n",
      "Epoch 11/40\n",
      "\u001b[1m5750/5750\u001b[0m \u001b[32m━━━━━━━━━━━━━━━━━━━━\u001b[0m\u001b[37m\u001b[0m \u001b[1m26s\u001b[0m 5ms/step - accuracy: 0.9907 - loss: 0.0326 - val_accuracy: 0.9958 - val_loss: 0.0192\n",
      "Epoch 12/40\n",
      "\u001b[1m5750/5750\u001b[0m \u001b[32m━━━━━━━━━━━━━━━━━━━━\u001b[0m\u001b[37m\u001b[0m \u001b[1m26s\u001b[0m 4ms/step - accuracy: 0.9917 - loss: 0.0298 - val_accuracy: 0.9957 - val_loss: 0.0172\n",
      "Epoch 13/40\n",
      "\u001b[1m5750/5750\u001b[0m \u001b[32m━━━━━━━━━━━━━━━━━━━━\u001b[0m\u001b[37m\u001b[0m \u001b[1m26s\u001b[0m 4ms/step - accuracy: 0.9913 - loss: 0.0295 - val_accuracy: 0.9953 - val_loss: 0.0188\n",
      "Epoch 14/40\n",
      "\u001b[1m5750/5750\u001b[0m \u001b[32m━━━━━━━━━━━━━━━━━━━━\u001b[0m\u001b[37m\u001b[0m \u001b[1m25s\u001b[0m 4ms/step - accuracy: 0.9919 - loss: 0.0281 - val_accuracy: 0.9959 - val_loss: 0.0180\n",
      "Epoch 15/40\n",
      "\u001b[1m5750/5750\u001b[0m \u001b[32m━━━━━━━━━━━━━━━━━━━━\u001b[0m\u001b[37m\u001b[0m \u001b[1m25s\u001b[0m 4ms/step - accuracy: 0.9922 - loss: 0.0279 - val_accuracy: 0.9957 - val_loss: 0.0206\n",
      "Epoch 16/40\n",
      "\u001b[1m5750/5750\u001b[0m \u001b[32m━━━━━━━━━━━━━━━━━━━━\u001b[0m\u001b[37m\u001b[0m \u001b[1m24s\u001b[0m 4ms/step - accuracy: 0.9921 - loss: 0.0270 - val_accuracy: 0.9962 - val_loss: 0.0166\n",
      "Epoch 17/40\n",
      "\u001b[1m5750/5750\u001b[0m \u001b[32m━━━━━━━━━━━━━━━━━━━━\u001b[0m\u001b[37m\u001b[0m \u001b[1m26s\u001b[0m 4ms/step - accuracy: 0.9924 - loss: 0.0259 - val_accuracy: 0.9960 - val_loss: 0.0192\n",
      "Epoch 18/40\n",
      "\u001b[1m5750/5750\u001b[0m \u001b[32m━━━━━━━━━━━━━━━━━━━━\u001b[0m\u001b[37m\u001b[0m \u001b[1m26s\u001b[0m 5ms/step - accuracy: 0.9930 - loss: 0.0245 - val_accuracy: 0.9963 - val_loss: 0.0149\n",
      "Epoch 19/40\n",
      "\u001b[1m5750/5750\u001b[0m \u001b[32m━━━━━━━━━━━━━━━━━━━━\u001b[0m\u001b[37m\u001b[0m \u001b[1m27s\u001b[0m 5ms/step - accuracy: 0.9933 - loss: 0.0226 - val_accuracy: 0.9963 - val_loss: 0.0155\n",
      "Epoch 20/40\n",
      "\u001b[1m5750/5750\u001b[0m \u001b[32m━━━━━━━━━━━━━━━━━━━━\u001b[0m\u001b[37m\u001b[0m \u001b[1m26s\u001b[0m 5ms/step - accuracy: 0.9934 - loss: 0.0229 - val_accuracy: 0.9965 - val_loss: 0.0161\n",
      "Epoch 21/40\n",
      "\u001b[1m5750/5750\u001b[0m \u001b[32m━━━━━━━━━━━━━━━━━━━━\u001b[0m\u001b[37m\u001b[0m \u001b[1m25s\u001b[0m 4ms/step - accuracy: 0.9933 - loss: 0.0224 - val_accuracy: 0.9961 - val_loss: 0.0229\n",
      "Epoch 22/40\n",
      "\u001b[1m5750/5750\u001b[0m \u001b[32m━━━━━━━━━━━━━━━━━━━━\u001b[0m\u001b[37m\u001b[0m \u001b[1m25s\u001b[0m 4ms/step - accuracy: 0.9933 - loss: 0.0221 - val_accuracy: 0.9965 - val_loss: 0.0167\n",
      "Epoch 23/40\n",
      "\u001b[1m5750/5750\u001b[0m \u001b[32m━━━━━━━━━━━━━━━━━━━━\u001b[0m\u001b[37m\u001b[0m \u001b[1m25s\u001b[0m 4ms/step - accuracy: 0.9936 - loss: 0.0223 - val_accuracy: 0.9964 - val_loss: 0.0172\n"
     ]
    },
    {
     "data": {
      "text/plain": [
       "<keras.src.callbacks.history.History at 0x30981b7f0>"
      ]
     },
     "execution_count": 13,
     "metadata": {},
     "output_type": "execute_result"
    }
   ],
   "source": [
    "model.compile(optimizer='adam', loss='categorical_crossentropy', metrics=['accuracy'])\n",
    "\n",
    "es = EarlyStopping(patience = 5, restore_best_weights=True)\n",
    "\n",
    "# Train the model\n",
    "model.fit(X_train[..., np.newaxis], y_train, epochs=40, batch_size=32, validation_data=(X_test[..., np.newaxis], y_test), callbacks=es)\n",
    "#model.save(\"asl_sign_language_model.h5\")\n",
    "#save_model(model, 'asl_sign_language_model.keras')"
   ]
  },
  {
   "cell_type": "code",
   "execution_count": 14,
   "id": "071fee4b-0635-4934-85d7-5ccc34d5771f",
   "metadata": {},
   "outputs": [],
   "source": [
    "save_model(model, 'old_asl_sign_language_model.keras')"
   ]
  },
  {
   "cell_type": "code",
   "execution_count": 4,
   "id": "892ec251-7631-4d01-9a80-8277fac3ea2f",
   "metadata": {},
   "outputs": [],
   "source": [
    "# Load the trained model\n",
    "#model = tf.keras.models.load_model(\"asl_sign_language_model.h5\")\n",
    "#model = tf.keras.models.load_model(\"asl_sign_language_model_tf_2.18.keras\")"
   ]
  },
  {
   "cell_type": "code",
   "execution_count": 5,
   "id": "d419c7f9-e77c-4da6-8686-5f9e4c923722",
   "metadata": {},
   "outputs": [],
   "source": [
    "# Encode labels as integers and convert to categorical\n",
    "#labels = np.load(\"labels.npy\")\n",
    "\n",
    "#label_encoder = LabelEncoder()\n",
    "#labels_encoded = label_encoder.fit_transform(labels)\n",
    "#labels_categorical = to_categorical(labels_encoded)"
   ]
  },
  {
   "cell_type": "code",
   "execution_count": null,
   "id": "873ec27c-da1e-4e24-bb02-c01dfa727638",
   "metadata": {},
   "outputs": [],
   "source": [
    "labels"
   ]
  },
  {
   "cell_type": "code",
   "execution_count": null,
   "id": "c3c6dbce-1f4b-4e88-8855-adfa3a61cd29",
   "metadata": {
    "scrolled": true
   },
   "outputs": [
    {
     "ename": "NameError",
     "evalue": "name 'mp' is not defined",
     "output_type": "error",
     "traceback": [
      "\u001b[0;31m---------------------------------------------------------------------------\u001b[0m",
      "\u001b[0;31mNameError\u001b[0m                                 Traceback (most recent call last)",
      "Cell \u001b[0;32mIn[1], line 2\u001b[0m\n\u001b[1;32m      1\u001b[0m \u001b[38;5;66;03m# Initialize MediaPipe Hands and drawing utilities\u001b[39;00m\n\u001b[0;32m----> 2\u001b[0m mp_hands \u001b[38;5;241m=\u001b[39m \u001b[43mmp\u001b[49m\u001b[38;5;241m.\u001b[39msolutions\u001b[38;5;241m.\u001b[39mhands\n\u001b[1;32m      3\u001b[0m hands \u001b[38;5;241m=\u001b[39m mp_hands\u001b[38;5;241m.\u001b[39mHands(static_image_mode\u001b[38;5;241m=\u001b[39m\u001b[38;5;28;01mFalse\u001b[39;00m, max_num_hands\u001b[38;5;241m=\u001b[39m\u001b[38;5;241m1\u001b[39m)\n\u001b[1;32m      4\u001b[0m mp_drawing \u001b[38;5;241m=\u001b[39m mp\u001b[38;5;241m.\u001b[39msolutions\u001b[38;5;241m.\u001b[39mdrawing_utils\n",
      "\u001b[0;31mNameError\u001b[0m: name 'mp' is not defined"
     ]
    }
   ],
   "source": [
    "# Initialize MediaPipe Hands and drawing utilities\n",
    "mp_hands = mp.solutions.hands\n",
    "hands = mp_hands.Hands(static_image_mode=False, max_num_hands=1)\n",
    "mp_drawing = mp.solutions.drawing_utils\n",
    "\n",
    "# Initialize webcam\n",
    "cap = cv2.VideoCapture(0)\n",
    "\n",
    "sequence = []\n",
    "sequence_length = 1  # Set sequence length to 10 frames for rolling window approach - not working yet\n",
    "\n",
    "while cap.isOpened():\n",
    "    ret, frame = cap.read()\n",
    "    frame_rgb = cv2.cvtColor(frame, cv2.COLOR_BGR2RGB)\n",
    "    results = hands.process(frame_rgb)\n",
    "\n",
    "    if results.multi_hand_landmarks:\n",
    "        landmarks = []\n",
    "        for lm in results.multi_hand_landmarks[0].landmark:\n",
    "            landmarks.extend([lm.x, lm.y, lm.z])\n",
    "\n",
    "        # Draw hand landmarks on the frame\n",
    "        mp_drawing.draw_landmarks(\n",
    "            frame,\n",
    "            results.multi_hand_landmarks[0],\n",
    "            mp_hands.HAND_CONNECTIONS\n",
    "        )\n",
    "\n",
    "        # Append new frame landmarks to sequence\n",
    "        sequence.append(landmarks)\n",
    "        if len(sequence) > sequence_length:\n",
    "            sequence.pop(0)\n",
    "\n",
    "        # Predict only if the sequence is full\n",
    "        if len(sequence) == sequence_length:\n",
    "            sequence_input = np.array(sequence).flatten()[np.newaxis, ..., np.newaxis]\n",
    "            prediction = model.predict(sequence_input)\n",
    "            predicted_label_index = np.argmax(prediction)\n",
    "            predicted_label = label_encoder.inverse_transform([predicted_label_index])\n",
    "            confidence = prediction[0][predicted_label_index] * 100  # Get confidence percentage\n",
    "\n",
    "            # Display prediction and confidence\n",
    "            cv2.putText(frame, f\"Predicted: {predicted_label[0]} ({confidence:.2f}%)\",\n",
    "                        (10, 30), cv2.FONT_HERSHEY_SIMPLEX, 1, (0, 0, 0), 2)  # Black text color\n",
    "\n",
    "    # Display the frame\n",
    "    cv2.imshow(\"ASL Sign Language Detection\", frame)\n",
    "\n",
    "    # Press 'C' to terminate the loop\n",
    "    if cv2.waitKey(1) & 0xFF == ord(\"c\"):\n",
    "        break\n",
    "\n",
    "cap.release()\n",
    "cv2.destroyAllWindows()"
   ]
  },
  {
   "cell_type": "code",
   "execution_count": null,
   "id": "884e33e9-f0a6-4961-95ed-bf2e4e622d51",
   "metadata": {},
   "outputs": [],
   "source": []
  }
 ],
 "metadata": {
  "kernelspec": {
   "display_name": "sign_language_interpreter",
   "language": "python",
   "name": "python3"
  },
  "language_info": {
   "codemirror_mode": {
    "name": "ipython",
    "version": 3
   },
   "file_extension": ".py",
   "mimetype": "text/x-python",
   "name": "python",
   "nbconvert_exporter": "python",
   "pygments_lexer": "ipython3",
   "version": "3.10.6"
  }
 },
 "nbformat": 4,
 "nbformat_minor": 5
}
