{
 "cells": [
  {
   "cell_type": "code",
   "execution_count": 6,
   "id": "59ff7cbf-c0b0-4d05-bcf3-71c7ddd83021",
   "metadata": {},
   "outputs": [],
   "source": [
    "import cv2\n",
    "import mediapipe as mp\n",
    "import numpy as np\n",
    "import os\n",
    "import time\n",
    "import tensorflow as tf\n",
    "from sklearn.preprocessing import LabelEncoder\n",
    "from sklearn.model_selection import train_test_split\n",
    "from tensorflow.keras.utils import to_categorical\n",
    "from tensorflow.keras.models import Sequential\n",
    "from tensorflow.keras.layers import Conv1D, MaxPooling1D, Flatten, Dense, Dropout\n",
    "from tensorflow.keras.models import save_model, load_model\n",
    "from tensorflow.keras.callbacks import EarlyStopping\n"
   ]
  },
  {
   "cell_type": "code",
   "execution_count": 230,
   "id": "9b955580",
   "metadata": {},
   "outputs": [],
   "source": [
    "landmark_data =np.load(\"landmark_data.npy\")\n",
    "labels = np.load(\"labels.npy\")"
   ]
  },
  {
   "cell_type": "code",
   "execution_count": 235,
   "id": "537fdd4a",
   "metadata": {},
   "outputs": [],
   "source": [
    "landmark_data = landmark_data / np.max(landmark_data)\n",
    "\n",
    "# Encode labels as integers and convert to categorical\n",
    "label_encoder = LabelEncoder()\n",
    "labels_encoded = label_encoder.fit_transform(labels)\n",
    "labels_categorical = to_categorical(labels_encoded)"
   ]
  },
  {
   "cell_type": "code",
   "execution_count": 270,
   "id": "e139befe-5de2-4754-8169-3525b8dc6dd2",
   "metadata": {},
   "outputs": [],
   "source": [
    "# Split into train and test sets\n",
    "X_train, X_test, y_train, y_test = train_test_split(landmark_data, labels_categorical, test_size=0.2, random_state=42)"
   ]
  },
  {
   "cell_type": "code",
   "execution_count": 5,
   "id": "d17690fa-0e8f-4cd8-92d8-cce701238b1d",
   "metadata": {},
   "outputs": [
    {
     "name": "stderr",
     "output_type": "stream",
     "text": [
      "/home/diana/.pyenv/versions/3.10.6/envs/sign_language_interpreter/lib/python3.10/site-packages/keras/src/layers/convolutional/base_conv.py:107: UserWarning: Do not pass an `input_shape`/`input_dim` argument to a layer. When using Sequential models, prefer using an `Input(shape)` object as the first layer in the model instead.\n",
      "  super().__init__(activity_regularizer=activity_regularizer, **kwargs)\n",
      "2024-10-30 00:11:14.241416: E external/local_xla/xla/stream_executor/cuda/cuda_driver.cc:152] failed call to cuInit: INTERNAL: CUDA error: Failed call to cuInit: UNKNOWN ERROR (303)\n"
     ]
    }
   ],
   "source": [
    "# Build 1D CNN model\n",
    "model = Sequential([\n",
    "    Conv1D(64, 3, activation='relu', input_shape=(X_train.shape[1], 1)),\n",
    "    MaxPooling1D(2),\n",
    "    Conv1D(128, 3, activation='relu'),\n",
    "    MaxPooling1D(2),\n",
    "    Flatten(),\n",
    "    Dense(128, activation='relu'),\n",
    "    Dropout(0.5),\n",
    "    Dense(len(label_encoder.classes_), activation='softmax')\n",
    "])"
   ]
  },
  {
   "cell_type": "code",
   "execution_count": null,
   "id": "5706e7e1-10e3-4d16-b2d7-7ea0234e116d",
   "metadata": {},
   "outputs": [
    {
     "name": "stdout",
     "output_type": "stream",
     "text": [
      "Epoch 1/40\n",
      "\u001b[1m1633/1633\u001b[0m \u001b[32m━━━━━━━━━━━━━━━━━━━━\u001b[0m\u001b[37m\u001b[0m \u001b[1m14s\u001b[0m 8ms/step - accuracy: 0.4350 - loss: 1.8901 - val_accuracy: 0.9456 - val_loss: 0.2025\n",
      "Epoch 2/40\n",
      "\u001b[1m1633/1633\u001b[0m \u001b[32m━━━━━━━━━━━━━━━━━━━━\u001b[0m\u001b[37m\u001b[0m \u001b[1m16s\u001b[0m 10ms/step - accuracy: 0.8631 - loss: 0.4336 - val_accuracy: 0.9695 - val_loss: 0.1150\n",
      "Epoch 3/40\n",
      "\u001b[1m1633/1633\u001b[0m \u001b[32m━━━━━━━━━━━━━━━━━━━━\u001b[0m\u001b[37m\u001b[0m \u001b[1m16s\u001b[0m 10ms/step - accuracy: 0.9054 - loss: 0.3007 - val_accuracy: 0.9799 - val_loss: 0.0882\n",
      "Epoch 4/40\n",
      "\u001b[1m1633/1633\u001b[0m \u001b[32m━━━━━━━━━━━━━━━━━━━━\u001b[0m\u001b[37m\u001b[0m \u001b[1m16s\u001b[0m 10ms/step - accuracy: 0.9192 - loss: 0.2589 - val_accuracy: 0.9799 - val_loss: 0.0778\n",
      "Epoch 5/40\n",
      "\u001b[1m1633/1633\u001b[0m \u001b[32m━━━━━━━━━━━━━━━━━━━━\u001b[0m\u001b[37m\u001b[0m \u001b[1m16s\u001b[0m 10ms/step - accuracy: 0.9306 - loss: 0.2184 - val_accuracy: 0.9841 - val_loss: 0.0745\n",
      "Epoch 6/40\n",
      "\u001b[1m1633/1633\u001b[0m \u001b[32m━━━━━━━━━━━━━━━━━━━━\u001b[0m\u001b[37m\u001b[0m \u001b[1m14s\u001b[0m 9ms/step - accuracy: 0.9380 - loss: 0.1964 - val_accuracy: 0.9855 - val_loss: 0.0633\n",
      "Epoch 7/40\n",
      "\u001b[1m1633/1633\u001b[0m \u001b[32m━━━━━━━━━━━━━━━━━━━━\u001b[0m\u001b[37m\u001b[0m \u001b[1m13s\u001b[0m 8ms/step - accuracy: 0.9370 - loss: 0.2019 - val_accuracy: 0.9868 - val_loss: 0.0566\n",
      "Epoch 8/40\n",
      "\u001b[1m1633/1633\u001b[0m \u001b[32m━━━━━━━━━━━━━━━━━━━━\u001b[0m\u001b[37m\u001b[0m \u001b[1m13s\u001b[0m 8ms/step - accuracy: 0.9479 - loss: 0.1625 - val_accuracy: 0.9871 - val_loss: 0.0527\n",
      "Epoch 9/40\n",
      "\u001b[1m1633/1633\u001b[0m \u001b[32m━━━━━━━━━━━━━━━━━━━━\u001b[0m\u001b[37m\u001b[0m \u001b[1m15s\u001b[0m 9ms/step - accuracy: 0.9527 - loss: 0.1518 - val_accuracy: 0.9867 - val_loss: 0.0518\n",
      "Epoch 10/40\n",
      "\u001b[1m1633/1633\u001b[0m \u001b[32m━━━━━━━━━━━━━━━━━━━━\u001b[0m\u001b[37m\u001b[0m \u001b[1m16s\u001b[0m 10ms/step - accuracy: 0.9532 - loss: 0.1478 - val_accuracy: 0.9888 - val_loss: 0.0478\n",
      "Epoch 11/40\n",
      "\u001b[1m1633/1633\u001b[0m \u001b[32m━━━━━━━━━━━━━━━━━━━━\u001b[0m\u001b[37m\u001b[0m \u001b[1m16s\u001b[0m 10ms/step - accuracy: 0.9539 - loss: 0.1375 - val_accuracy: 0.9901 - val_loss: 0.0419\n",
      "Epoch 12/40\n",
      "\u001b[1m1633/1633\u001b[0m \u001b[32m━━━━━━━━━━━━━━━━━━━━\u001b[0m\u001b[37m\u001b[0m \u001b[1m15s\u001b[0m 9ms/step - accuracy: 0.9584 - loss: 0.1303 - val_accuracy: 0.9879 - val_loss: 0.0451\n",
      "Epoch 13/40\n",
      "\u001b[1m1633/1633\u001b[0m \u001b[32m━━━━━━━━━━━━━━━━━━━━\u001b[0m\u001b[37m\u001b[0m \u001b[1m17s\u001b[0m 10ms/step - accuracy: 0.9618 - loss: 0.1200 - val_accuracy: 0.9879 - val_loss: 0.0440\n",
      "Epoch 14/40\n",
      "\u001b[1m1633/1633\u001b[0m \u001b[32m━━━━━━━━━━━━━━━━━━━━\u001b[0m\u001b[37m\u001b[0m \u001b[1m17s\u001b[0m 10ms/step - accuracy: 0.9631 - loss: 0.1132 - val_accuracy: 0.9910 - val_loss: 0.0401\n",
      "Epoch 15/40\n",
      "\u001b[1m1633/1633\u001b[0m \u001b[32m━━━━━━━━━━━━━━━━━━━━\u001b[0m\u001b[37m\u001b[0m \u001b[1m16s\u001b[0m 9ms/step - accuracy: 0.9654 - loss: 0.1085 - val_accuracy: 0.9914 - val_loss: 0.0380\n",
      "Epoch 16/40\n",
      "\u001b[1m1633/1633\u001b[0m \u001b[32m━━━━━━━━━━━━━━━━━━━━\u001b[0m\u001b[37m\u001b[0m \u001b[1m16s\u001b[0m 10ms/step - accuracy: 0.9665 - loss: 0.1032 - val_accuracy: 0.9919 - val_loss: 0.0370\n",
      "Epoch 17/40\n",
      "\u001b[1m1633/1633\u001b[0m \u001b[32m━━━━━━━━━━━━━━━━━━━━\u001b[0m\u001b[37m\u001b[0m \u001b[1m19s\u001b[0m 9ms/step - accuracy: 0.9688 - loss: 0.0995 - val_accuracy: 0.9904 - val_loss: 0.0389\n",
      "Epoch 18/40\n",
      "\u001b[1m1633/1633\u001b[0m \u001b[32m━━━━━━━━━━━━━━━━━━━━\u001b[0m\u001b[37m\u001b[0m \u001b[1m16s\u001b[0m 10ms/step - accuracy: 0.9694 - loss: 0.0986 - val_accuracy: 0.9920 - val_loss: 0.0334\n",
      "Epoch 19/40\n",
      "\u001b[1m1633/1633\u001b[0m \u001b[32m━━━━━━━━━━━━━━━━━━━━\u001b[0m\u001b[37m\u001b[0m \u001b[1m16s\u001b[0m 10ms/step - accuracy: 0.9705 - loss: 0.0895 - val_accuracy: 0.9926 - val_loss: 0.0330\n",
      "Epoch 20/40\n",
      "\u001b[1m1633/1633\u001b[0m \u001b[32m━━━━━━━━━━━━━━━━━━━━\u001b[0m\u001b[37m\u001b[0m \u001b[1m16s\u001b[0m 10ms/step - accuracy: 0.9720 - loss: 0.0858 - val_accuracy: 0.9927 - val_loss: 0.0295\n",
      "Epoch 21/40\n",
      "\u001b[1m1633/1633\u001b[0m \u001b[32m━━━━━━━━━━━━━━━━━━━━\u001b[0m\u001b[37m\u001b[0m \u001b[1m15s\u001b[0m 9ms/step - accuracy: 0.9736 - loss: 0.0820 - val_accuracy: 0.9925 - val_loss: 0.0344\n",
      "Epoch 22/40\n",
      "\u001b[1m1633/1633\u001b[0m \u001b[32m━━━━━━━━━━━━━━━━━━━━\u001b[0m\u001b[37m\u001b[0m \u001b[1m16s\u001b[0m 10ms/step - accuracy: 0.9704 - loss: 0.0890 - val_accuracy: 0.9926 - val_loss: 0.0322\n",
      "Epoch 23/40\n",
      "\u001b[1m1633/1633\u001b[0m \u001b[32m━━━━━━━━━━━━━━━━━━━━\u001b[0m\u001b[37m\u001b[0m \u001b[1m15s\u001b[0m 9ms/step - accuracy: 0.9702 - loss: 0.0935 - val_accuracy: 0.9930 - val_loss: 0.0311\n",
      "Epoch 24/40\n",
      "\u001b[1m1633/1633\u001b[0m \u001b[32m━━━━━━━━━━━━━━━━━━━━\u001b[0m\u001b[37m\u001b[0m \u001b[1m15s\u001b[0m 9ms/step - accuracy: 0.9762 - loss: 0.0745 - val_accuracy: 0.9930 - val_loss: 0.0317\n",
      "Epoch 25/40\n",
      "\u001b[1m1633/1633\u001b[0m \u001b[32m━━━━━━━━━━━━━━━━━━━━\u001b[0m\u001b[37m\u001b[0m \u001b[1m15s\u001b[0m 9ms/step - accuracy: 0.9759 - loss: 0.0765 - val_accuracy: 0.9926 - val_loss: 0.0330\n"
     ]
    }
   ],
   "source": [
    "model.compile(optimizer='adam', loss='categorical_crossentropy', metrics=['accuracy'])\n",
    "\n",
    "es = EarlyStopping(patience = 5, restore_best_weights=True)\n",
    "\n",
    "# Train the model\n",
    "model.fit(X_train[..., np.newaxis], y_train, epochs=40, batch_size=32, validation_data=(X_test[..., np.newaxis], y_test), callbacks=es)\n",
    "#model.save(\"asl_sign_language_model.h5\")\n",
    "save_model(model, 'asl_sign_language_model_tf_2.18.keras')"
   ]
  },
  {
   "cell_type": "code",
   "execution_count": 257,
   "id": "892ec251-7631-4d01-9a80-8277fac3ea2f",
   "metadata": {},
   "outputs": [],
   "source": [
    "# Load the trained model\n",
    "\n",
    "model = tf.keras.models.load_model(\"asl_sign_language_model_tf_2.18.keras\")"
   ]
  },
  {
   "cell_type": "code",
   "execution_count": 169,
   "id": "c81c92c8",
   "metadata": {},
   "outputs": [],
   "source": [
    "def predict_image(directory):\n",
    "    mp_hands = mp.solutions.hands\n",
    "    hands = mp_hands.Hands(static_image_mode=False, max_num_hands=1)\n",
    "    mp_drawing = mp.solutions.drawing_utils\n",
    "\n",
    "    img = cv2.imread(directory)\n",
    "    img_rbg =  cv2.cvtColor(img, cv2.COLOR_BGR2RGB)\n",
    "    result = hands.process(img_rbg)\n",
    "\n",
    "    sequence = []\n",
    "    sequence_length = 1\n",
    "\n",
    "    if result.multi_hand_landmarks:\n",
    "        landmarks = []\n",
    "        for lm in result.multi_hand_landmarks[0].landmark:\n",
    "            landmarks.extend([lm.x, lm.y, lm.z])\n",
    "\n",
    "        # Draw hand landmarks on the frame\n",
    "        mp_drawing.draw_landmarks(\n",
    "            img,\n",
    "            result.multi_hand_landmarks[0],\n",
    "            mp_hands.HAND_CONNECTIONS\n",
    "        )\n",
    "\n",
    "        # Append new frame landmarks to sequence\n",
    "        sequence.append(landmarks)\n",
    "        if len(sequence) > sequence_length:\n",
    "            sequence.pop(0)\n",
    "\n",
    "        if len(sequence) == sequence_length:\n",
    "            sequence_input = np.array(sequence).flatten()[np.newaxis, ..., np.newaxis]\n",
    "            prediction = model.predict(sequence_input)\n",
    "            predicted_label_index = np.argmax(prediction)\n",
    "            predicted_label = label_encoder.inverse_transform([predicted_label_index])\n",
    "            confidence = prediction[0][predicted_label_index]\n",
    "    return predicted_label\n"
   ]
  },
  {
   "cell_type": "code",
   "execution_count": 170,
   "id": "aec7b482",
   "metadata": {},
   "outputs": [
    {
     "name": "stdout",
     "output_type": "stream",
     "text": [
      "\u001b[1m1/1\u001b[0m \u001b[32m━━━━━━━━━━━━━━━━━━━━\u001b[0m\u001b[37m\u001b[0m \u001b[1m0s\u001b[0m 26ms/step\n"
     ]
    },
    {
     "name": "stderr",
     "output_type": "stream",
     "text": [
      "W0000 00:00:1730243970.293026  126915 inference_feedback_manager.cc:114] Feedback manager requires a model with a single signature inference. Disabling support for feedback tensors.\n",
      "W0000 00:00:1730243970.320027  126915 inference_feedback_manager.cc:114] Feedback manager requires a model with a single signature inference. Disabling support for feedback tensors.\n",
      "/home/diana/.pyenv/versions/3.10.6/envs/sign_language_interpreter/lib/python3.10/site-packages/google/protobuf/symbol_database.py:55: UserWarning: SymbolDatabase.GetPrototype() is deprecated. Please use message_factory.GetMessageClass() instead. SymbolDatabase.GetPrototype() will be removed soon.\n",
      "  warnings.warn('SymbolDatabase.GetPrototype() is deprecated. Please '\n"
     ]
    },
    {
     "data": {
      "text/plain": [
       "array(['W'], dtype='<U5')"
      ]
     },
     "execution_count": 170,
     "metadata": {},
     "output_type": "execute_result"
    }
   ],
   "source": [
    "predict_image(\"/home/diana/code/Koriza274/sign_language_interpreter/basic_models/w.jpg\")"
   ]
  },
  {
   "cell_type": "code",
   "execution_count": 266,
   "id": "7a236b14",
   "metadata": {},
   "outputs": [
    {
     "name": "stderr",
     "output_type": "stream",
     "text": [
      "W0000 00:00:1730247738.581106  153295 inference_feedback_manager.cc:114] Feedback manager requires a model with a single signature inference. Disabling support for feedback tensors.\n"
     ]
    },
    {
     "name": "stdout",
     "output_type": "stream",
     "text": [
      "\u001b[1m1/1\u001b[0m \u001b[32m━━━━━━━━━━━━━━━━━━━━\u001b[0m\u001b[37m\u001b[0m \u001b[1m0s\u001b[0m 21ms/step\n"
     ]
    },
    {
     "name": "stderr",
     "output_type": "stream",
     "text": [
      "W0000 00:00:1730247738.792855  153300 inference_feedback_manager.cc:114] Feedback manager requires a model with a single signature inference. Disabling support for feedback tensors.\n",
      "/home/diana/.pyenv/versions/3.10.6/envs/sign_language_interpreter/lib/python3.10/site-packages/google/protobuf/symbol_database.py:55: UserWarning: SymbolDatabase.GetPrototype() is deprecated. Please use message_factory.GetMessageClass() instead. SymbolDatabase.GetPrototype() will be removed soon.\n",
      "  warnings.warn('SymbolDatabase.GetPrototype() is deprecated. Please '\n"
     ]
    },
    {
     "data": {
      "text/plain": [
       "array(['I'], dtype='<U5')"
      ]
     },
     "execution_count": 266,
     "metadata": {},
     "output_type": "execute_result"
    }
   ],
   "source": [
    "predict_image(\"/home/diana/code/Koriza274/sign_language_interpreter/raw_data/Test/I/3003.jpg\")"
   ]
  },
  {
   "cell_type": "code",
   "execution_count": null,
   "id": "ae97a00a",
   "metadata": {},
   "outputs": [],
   "source": [
    "def adjust_brightness_contrast(image, brightness=40, contrast=1.0):\n",
    "    # Convert to float to prevent clipping\n",
    "    img = image.astype(np.float32)\n",
    "    # Adjust brightness and contrast\n",
    "    img = img * contrast + brightness\n",
    "    # Clip to keep pixel values between 0 and 255 and convert back to uint8\n",
    "    img = np.clip(img, 0, 255).astype(np.uint8)\n",
    "    return img"
   ]
  },
  {
   "cell_type": "code",
   "execution_count": 267,
   "id": "be7ddc0b",
   "metadata": {},
   "outputs": [],
   "source": [
    "def evaluate_model(test_data_dir):\n",
    "        mp_hands = mp.solutions.hands\n",
    "        hands = mp_hands.Hands(static_image_mode=True, max_num_hands=1, min_detection_confidence=0.7)\n",
    "\n",
    "\n",
    "        labels1 = []\n",
    "        landmark_data1 = []\n",
    "\n",
    "        for letter in os.listdir(test_data_dir):\n",
    "\n",
    "            letter_dir = os.path.join(test_data_dir, letter)\n",
    "            for i, img_path in enumerate(os.listdir(letter_dir)):\n",
    "\n",
    "                img = cv2.imread(os.path.join(letter_dir, img_path))\n",
    "                img = adjust_brightness_contrast(img, 40, 1)\n",
    "\n",
    "                img_rgb = cv2.cvtColor(img, cv2.COLOR_BGR2RGB)\n",
    "                results = hands.process(img_rgb)\n",
    "\n",
    "\n",
    "                if results.multi_hand_landmarks:\n",
    "                    landmarks = []\n",
    "                    for lm in results.multi_hand_landmarks[0].landmark:\n",
    "                        landmarks.extend([lm.x, lm.y, lm.z])\n",
    "                    landmark_data1.append(landmarks)\n",
    "                    labels1.append(letter)\n",
    "        landmark_data1 = np.array(landmark_data1)\n",
    "        labels1 = np.array(labels1)\n",
    "\n",
    "\n",
    "        # Normalize landmarks between 0 and 1\n",
    "        landmark_data1 = landmark_data1 / np.max(landmark_data)\n",
    "\n",
    "        # Encode labels as integers and convert to categorical\n",
    "\n",
    "        labels_encoded1 = label_encoder.transform(labels1)\n",
    "        labels_categorical1 = to_categorical(labels_encoded1)\n",
    "        landmark_data1 = np.reshape(landmark_data1,(-1,63,1))\n",
    "\n",
    "        return model.evaluate(landmark_data1,labels_categorical1)\n"
   ]
  },
  {
   "cell_type": "code",
   "execution_count": 268,
   "id": "1aa60209",
   "metadata": {},
   "outputs": [
    {
     "name": "stderr",
     "output_type": "stream",
     "text": [
      "W0000 00:00:1730247772.632845  153542 inference_feedback_manager.cc:114] Feedback manager requires a model with a single signature inference. Disabling support for feedback tensors.\n",
      "W0000 00:00:1730247772.820606  153542 inference_feedback_manager.cc:114] Feedback manager requires a model with a single signature inference. Disabling support for feedback tensors.\n",
      "/home/diana/.pyenv/versions/3.10.6/envs/sign_language_interpreter/lib/python3.10/site-packages/google/protobuf/symbol_database.py:55: UserWarning: SymbolDatabase.GetPrototype() is deprecated. Please use message_factory.GetMessageClass() instead. SymbolDatabase.GetPrototype() will be removed soon.\n",
      "  warnings.warn('SymbolDatabase.GetPrototype() is deprecated. Please '\n"
     ]
    },
    {
     "name": "stdout",
     "output_type": "stream",
     "text": [
      "\u001b[1m4/4\u001b[0m \u001b[32m━━━━━━━━━━━━━━━━━━━━\u001b[0m\u001b[37m\u001b[0m \u001b[1m0s\u001b[0m 4ms/step - accuracy: 0.2687 - loss: 15.7795 \n"
     ]
    },
    {
     "data": {
      "text/plain": [
       "[16.914533615112305, 0.30188679695129395]"
      ]
     },
     "execution_count": 268,
     "metadata": {},
     "output_type": "execute_result"
    }
   ],
   "source": [
    "evaluate_model(\"/home/diana/code/Koriza274/sign_language_interpreter/raw_data/Test\")"
   ]
  },
  {
   "cell_type": "code",
   "execution_count": 271,
   "id": "f2098395",
   "metadata": {},
   "outputs": [
    {
     "name": "stdout",
     "output_type": "stream",
     "text": [
      "\u001b[1m409/409\u001b[0m \u001b[32m━━━━━━━━━━━━━━━━━━━━\u001b[0m\u001b[37m\u001b[0m \u001b[1m1s\u001b[0m 3ms/step - accuracy: 0.9932 - loss: 0.0343\n"
     ]
    },
    {
     "data": {
      "text/plain": [
       "[0.029525579884648323, 0.9927241802215576]"
      ]
     },
     "execution_count": 271,
     "metadata": {},
     "output_type": "execute_result"
    }
   ],
   "source": [
    "model.evaluate(X_test,y_test)"
   ]
  }
 ],
 "metadata": {
  "kernelspec": {
   "display_name": "sign_language_interpreter",
   "language": "python",
   "name": "python3"
  },
  "language_info": {
   "codemirror_mode": {
    "name": "ipython",
    "version": 3
   },
   "file_extension": ".py",
   "mimetype": "text/x-python",
   "name": "python",
   "nbconvert_exporter": "python",
   "pygments_lexer": "ipython3",
   "version": "3.10.6"
  }
 },
 "nbformat": 4,
 "nbformat_minor": 5
}
