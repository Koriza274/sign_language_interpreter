{
 "cells": [
  {
   "cell_type": "code",
   "execution_count": 2,
   "id": "59ff7cbf-c0b0-4d05-bcf3-71c7ddd83021",
   "metadata": {},
   "outputs": [
    {
     "name": "stderr",
     "output_type": "stream",
     "text": [
      "2024-10-30 10:41:35.267872: E external/local_xla/xla/stream_executor/cuda/cuda_fft.cc:477] Unable to register cuFFT factory: Attempting to register factory for plugin cuFFT when one has already been registered\n",
      "WARNING: All log messages before absl::InitializeLog() is called are written to STDERR\n",
      "E0000 00:00:1730281295.280358   46545 cuda_dnn.cc:8310] Unable to register cuDNN factory: Attempting to register factory for plugin cuDNN when one has already been registered\n",
      "E0000 00:00:1730281295.284585   46545 cuda_blas.cc:1418] Unable to register cuBLAS factory: Attempting to register factory for plugin cuBLAS when one has already been registered\n",
      "2024-10-30 10:41:35.297824: I tensorflow/core/platform/cpu_feature_guard.cc:210] This TensorFlow binary is optimized to use available CPU instructions in performance-critical operations.\n",
      "To enable the following instructions: AVX2 FMA, in other operations, rebuild TensorFlow with the appropriate compiler flags.\n"
     ]
    }
   ],
   "source": [
    "import cv2\n",
    "import mediapipe as mp\n",
    "import numpy as np\n",
    "import os\n",
    "import time\n",
    "import tensorflow as tf\n",
    "from sklearn.preprocessing import LabelEncoder\n",
    "from sklearn.model_selection import train_test_split\n",
    "from tensorflow.keras.utils import to_categorical\n",
    "from tensorflow.keras.models import Sequential\n",
    "from tensorflow.keras.layers import Conv1D, MaxPooling1D, Flatten, Dense, Dropout\n",
    "from tensorflow.keras.models import save_model, load_model\n",
    "from tensorflow.keras.callbacks import EarlyStopping"
   ]
  },
  {
   "cell_type": "code",
   "execution_count": 5,
   "id": "9b955580",
   "metadata": {},
   "outputs": [],
   "source": [
    "landmark_data =np.load(\"landmark_data.npy\")\n",
    "labels = np.load(\"labels.npy\")"
   ]
  },
  {
   "cell_type": "code",
   "execution_count": 6,
   "id": "537fdd4a",
   "metadata": {},
   "outputs": [],
   "source": [
    "landmark_data = landmark_data / np.max(landmark_data)\n",
    "\n",
    "# Encode labels as integers and convert to categorical\n",
    "label_encoder = LabelEncoder()\n",
    "labels_encoded = label_encoder.fit_transform(labels)\n",
    "labels_categorical = to_categorical(labels_encoded)"
   ]
  },
  {
   "cell_type": "code",
   "execution_count": null,
   "id": "e139befe-5de2-4754-8169-3525b8dc6dd2",
   "metadata": {},
   "outputs": [],
   "source": [
    "# Split into train and test sets\n",
    "X_train, X_test, y_train, y_test = train_test_split(landmark_data, labels_categorical, test_size=0.2, random_state=42)"
   ]
  },
  {
   "cell_type": "code",
   "execution_count": null,
   "id": "d17690fa-0e8f-4cd8-92d8-cce701238b1d",
   "metadata": {},
   "outputs": [],
   "source": [
    "# Build 1D CNN model\n",
    "model = Sequential([\n",
    "    Conv1D(64, 3, activation='relu', input_shape=(X_train.shape[1], 1)),\n",
    "    MaxPooling1D(2),\n",
    "    Conv1D(128, 3, activation='relu'),\n",
    "    MaxPooling1D(2),\n",
    "    Flatten(),\n",
    "    Dense(128, activation='relu'),\n",
    "    Dropout(0.5),\n",
    "    Dense(len(label_encoder.classes_), activation='softmax')\n",
    "])"
   ]
  },
  {
   "cell_type": "code",
   "execution_count": null,
   "id": "5706e7e1-10e3-4d16-b2d7-7ea0234e116d",
   "metadata": {},
   "outputs": [],
   "source": [
    "model.compile(optimizer='adam', loss='categorical_crossentropy', metrics=['accuracy'])\n",
    "\n",
    "es = EarlyStopping(patience = 5, restore_best_weights=True)\n",
    "\n",
    "# Train the model\n",
    "model.fit(X_train[..., np.newaxis], y_train, epochs=40, batch_size=32, validation_data=(X_test[..., np.newaxis], y_test), callbacks=es)\n",
    "#model.save(\"asl_sign_language_model.h5\")\n",
    "save_model(model, 'asl_sign_language_model_tf_2.18.keras')"
   ]
  },
  {
   "cell_type": "code",
   "execution_count": 7,
   "id": "892ec251-7631-4d01-9a80-8277fac3ea2f",
   "metadata": {},
   "outputs": [
    {
     "name": "stderr",
     "output_type": "stream",
     "text": [
      "I0000 00:00:1730281318.445911   46545 gpu_device.cc:2022] Created device /job:localhost/replica:0/task:0/device:GPU:0 with 4057 MB memory:  -> device: 0, name: Quadro RTX 3000, pci bus id: 0000:01:00.0, compute capability: 7.5\n"
     ]
    }
   ],
   "source": [
    "# Load the trained model\n",
    "\n",
    "model = tf.keras.models.load_model(\"asl_sign_language_model_tf_2.18.keras\")"
   ]
  },
  {
   "cell_type": "code",
   "execution_count": 9,
   "id": "c81c92c8",
   "metadata": {},
   "outputs": [],
   "source": [
    "def predict_image(directory):\n",
    "    mp_hands = mp.solutions.hands\n",
    "    hands = mp_hands.Hands(static_image_mode=False, max_num_hands=1)\n",
    "    mp_drawing = mp.solutions.drawing_utils\n",
    "\n",
    "    img = cv2.imread(directory)\n",
    "    img_rbg =  cv2.cvtColor(img, cv2.COLOR_BGR2RGB)\n",
    "    result = hands.process(img_rbg)\n",
    "\n",
    "    sequence = []\n",
    "    sequence_length = 1\n",
    "\n",
    "    if result.multi_hand_landmarks:\n",
    "        landmarks = []\n",
    "        for lm in result.multi_hand_landmarks[0].landmark:\n",
    "            landmarks.extend([lm.x, lm.y, lm.z])\n",
    "\n",
    "        # Draw hand landmarks on the frame\n",
    "        mp_drawing.draw_landmarks(\n",
    "            img,\n",
    "            result.multi_hand_landmarks[0],\n",
    "            mp_hands.HAND_CONNECTIONS\n",
    "        )\n",
    "\n",
    "        # Append new frame landmarks to sequence\n",
    "        sequence.append(landmarks)\n",
    "        if len(sequence) > sequence_length:\n",
    "            sequence.pop(0)\n",
    "\n",
    "        if len(sequence) == sequence_length:\n",
    "            sequence_input = np.array(sequence).flatten()[np.newaxis, ..., np.newaxis]\n",
    "            prediction = model.predict(sequence_input)\n",
    "            predicted_label_index = np.argmax(prediction)\n",
    "            predicted_label = label_encoder.inverse_transform([predicted_label_index])\n",
    "            confidence = prediction[0][predicted_label_index]\n",
    "        \n",
    "        # Display the image with landmarks\n",
    "        cv2.imshow(\"Result Image\", img)\n",
    "        cv2.waitKey(0)\n",
    "        cv2.destroyAllWindows()\n",
    "    \n",
    "    return predicted_label\n"
   ]
  },
  {
   "cell_type": "code",
   "execution_count": 10,
   "id": "aec7b482",
   "metadata": {},
   "outputs": [
    {
     "name": "stderr",
     "output_type": "stream",
     "text": [
      "WARNING: All log messages before absl::InitializeLog() is called are written to STDERR\n",
      "I0000 00:00:1730281334.274300   46545 gl_context_egl.cc:85] Successfully initialized EGL. Major : 1 Minor: 5\n",
      "I0000 00:00:1730281334.292200   46993 gl_context.cc:357] GL version: 3.1 (OpenGL ES 3.1 Mesa 23.2.1-1ubuntu3.1~22.04.2), renderer: D3D12 (NVIDIA Quadro RTX 3000)\n",
      "INFO: Created TensorFlow Lite XNNPACK delegate for CPU.\n"
     ]
    },
    {
     "name": "stdout",
     "output_type": "stream",
     "text": [
      "\u001b[1m1/1\u001b[0m \u001b[32m━━━━━━━━━━━━━━━━━━━━\u001b[0m\u001b[37m\u001b[0m \u001b[1m0s\u001b[0m 280ms/step\n"
     ]
    },
    {
     "name": "stderr",
     "output_type": "stream",
     "text": [
      "I0000 00:00:1730281334.535773   46866 cuda_dnn.cc:529] Loaded cuDNN version 90300\n"
     ]
    },
    {
     "data": {
      "text/plain": [
       "array(['W'], dtype='<U5')"
      ]
     },
     "execution_count": 10,
     "metadata": {},
     "output_type": "execute_result"
    }
   ],
   "source": [
    "predict_image(\"basic_models/w.jpg\")"
   ]
  },
  {
   "cell_type": "code",
   "execution_count": null,
   "id": "7a236b14",
   "metadata": {},
   "outputs": [],
   "source": [
    "predict_image(\"/home/diana/code/Koriza274/sign_language_interpreter/raw_data/Test/I/3003.jpg\")"
   ]
  },
  {
   "cell_type": "code",
   "execution_count": null,
   "id": "ae97a00a",
   "metadata": {},
   "outputs": [],
   "source": [
    "def adjust_brightness_contrast(image, brightness=40, contrast=1.0):\n",
    "    # Convert to float to prevent clipping\n",
    "    img = image.astype(np.float32)\n",
    "    # Adjust brightness and contrast\n",
    "    img = img * contrast + brightness\n",
    "    # Clip to keep pixel values between 0 and 255 and convert back to uint8\n",
    "    img = np.clip(img, 0, 255).astype(np.uint8)\n",
    "    return img"
   ]
  },
  {
   "cell_type": "code",
   "execution_count": 8,
   "id": "be7ddc0b",
   "metadata": {},
   "outputs": [],
   "source": [
    "def evaluate_model(test_data_dir):\n",
    "        mp_hands = mp.solutions.hands\n",
    "        hands = mp_hands.Hands(static_image_mode=True, max_num_hands=1, min_detection_confidence=0.7)\n",
    "\n",
    "\n",
    "        labels1 = []\n",
    "        landmark_data1 = []\n",
    "\n",
    "        for letter in os.listdir(test_data_dir):\n",
    "\n",
    "            letter_dir = os.path.join(test_data_dir, letter)\n",
    "            for i, img_path in enumerate(os.listdir(letter_dir)):\n",
    "\n",
    "                img = cv2.imread(os.path.join(letter_dir, img_path))\n",
    "                img = adjust_brightness_contrast(img, 40, 1)\n",
    "\n",
    "                img_rgb = cv2.cvtColor(img, cv2.COLOR_BGR2RGB)\n",
    "                results = hands.process(img_rgb)\n",
    "\n",
    "\n",
    "                if results.multi_hand_landmarks:\n",
    "                    landmarks = []\n",
    "                    for lm in results.multi_hand_landmarks[0].landmark:\n",
    "                        landmarks.extend([lm.x, lm.y, lm.z])\n",
    "                    landmark_data1.append(landmarks)\n",
    "                    labels1.append(letter)\n",
    "        landmark_data1 = np.array(landmark_data1)\n",
    "        labels1 = np.array(labels1)\n",
    "\n",
    "\n",
    "        # Normalize landmarks between 0 and 1\n",
    "        landmark_data1 = landmark_data1 / np.max(landmark_data)\n",
    "\n",
    "        # Encode labels as integers and convert to categorical\n",
    "\n",
    "        labels_encoded1 = label_encoder.transform(labels1)\n",
    "        labels_categorical1 = to_categorical(labels_encoded1)\n",
    "        landmark_data1 = np.reshape(landmark_data1,(-1,63,1))\n",
    "\n",
    "        return model.evaluate(landmark_data1,labels_categorical1)\n"
   ]
  },
  {
   "cell_type": "code",
   "execution_count": null,
   "id": "1aa60209",
   "metadata": {},
   "outputs": [],
   "source": [
    "evaluate_model(\"/home/diana/code/Koriza274/sign_language_interpreter/raw_data/Test\")"
   ]
  },
  {
   "cell_type": "code",
   "execution_count": null,
   "id": "f2098395",
   "metadata": {},
   "outputs": [],
   "source": [
    "model.evaluate(X_test,y_test)"
   ]
  }
 ],
 "metadata": {
  "kernelspec": {
   "display_name": "Python 3 (ipykernel)",
   "language": "python",
   "name": "python3"
  },
  "language_info": {
   "codemirror_mode": {
    "name": "ipython",
    "version": 3
   },
   "file_extension": ".py",
   "mimetype": "text/x-python",
   "name": "python",
   "nbconvert_exporter": "python",
   "pygments_lexer": "ipython3",
   "version": "3.10.6"
  }
 },
 "nbformat": 4,
 "nbformat_minor": 5
}
