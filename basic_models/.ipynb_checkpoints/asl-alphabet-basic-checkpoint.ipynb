{
 "cells": [
  {
   "cell_type": "markdown",
   "metadata": {},
   "source": [
    "**THIS NOTEBOOK WAS PREPARED ON KAGGLE NOTEBOOKS WITH GPU**"
   ]
  },
  {
   "cell_type": "code",
   "execution_count": 12,
   "metadata": {
    "_cell_guid": "b1076dfc-b9ad-4769-8c92-a6c4dae69d19",
    "_uuid": "8f2839f25d086af736a60e9eeb907d3b93b6e0e5",
    "execution": {
     "iopub.execute_input": "2024-10-28T23:18:03.174314Z",
     "iopub.status.busy": "2024-10-28T23:18:03.173976Z",
     "iopub.status.idle": "2024-10-28T23:18:15.812571Z",
     "shell.execute_reply": "2024-10-28T23:18:15.811777Z",
     "shell.execute_reply.started": "2024-10-28T23:18:03.174276Z"
    }
   },
   "outputs": [],
   "source": [
    "\n",
    "\n",
    "import numpy as np # linear algebra\n",
    "import pandas as pd # data processing, CSV file I/O (e.g. pd.read_csv)\n",
    "import matplotlib.pyplot as plt\n",
    "import kagglehub\n",
    "\n",
    "from tensorflow.keras.preprocessing.image import array_to_img, img_to_array, load_img\n",
    "from tensorflow.keras.utils import image_dataset_from_directory\n",
    "\n",
    "\n",
    "import tensorflow as tf\n",
    "\n",
    "from tensorflow.keras import models, layers\n",
    "from tensorflow.keras.models import Sequential\n",
    "from tensorflow.keras.layers import Reshape,Conv2D, MaxPool2D,Flatten,Dense, Dropout, Rescaling, RandomFlip,RandomZoom,RandomTranslation,RandomRotation, RandomContrast\n",
    "from tensorflow.keras.utils import to_categorical\n",
    "from tensorflow.keras.callbacks import EarlyStopping\n",
    "from tensorflow.keras.preprocessing.image import ImageDataGenerator\n",
    "\n",
    "from tensorflow.keras.models import save_model, load_model\n",
    "from tensorflow.keras.utils import img_to_array\n"
   ]
  },
  {
   "cell_type": "code",
   "execution_count": null,
   "metadata": {
    "execution": {
     "iopub.execute_input": "2024-10-28T23:19:13.847226Z",
     "iopub.status.busy": "2024-10-28T23:19:13.846518Z",
     "iopub.status.idle": "2024-10-28T23:19:14.476602Z",
     "shell.execute_reply": "2024-10-28T23:19:14.475649Z",
     "shell.execute_reply.started": "2024-10-28T23:19:13.847182Z"
    }
   },
   "outputs": [
    {
     "name": "stdout",
     "output_type": "stream",
     "text": [
      "Downloading from https://www.kaggle.com/api/v1/datasets/download/grassknoted/asl-alphabet?dataset_version_number=1...\n"
     ]
    },
    {
     "name": "stderr",
     "output_type": "stream",
     "text": [
      " 22%|█████████████████▏                                                             | 228M/1.03G [00:19<01:05, 13.3MB/s]"
     ]
    }
   ],
   "source": [
    "import kagglehub\n",
    "\n",
    "# Download latest version\n",
    "path = kagglehub.dataset_download(\"grassknoted/asl-alphabet\")\n",
    "\n",
    "print(\"Path to dataset files:\", path)"
   ]
  },
  {
   "cell_type": "code",
   "execution_count": null,
   "metadata": {
    "execution": {
     "iopub.execute_input": "2024-10-28T23:19:16.602304Z",
     "iopub.status.busy": "2024-10-28T23:19:16.601897Z",
     "iopub.status.idle": "2024-10-28T23:19:16.606910Z",
     "shell.execute_reply": "2024-10-28T23:19:16.605954Z",
     "shell.execute_reply.started": "2024-10-28T23:19:16.602270Z"
    }
   },
   "outputs": [],
   "source": [
    "train_dir = '/kaggle/input/asl-alphabet/asl_alphabet_train/asl_alphabet_train'\n"
   ]
  },
  {
   "cell_type": "code",
   "execution_count": 7,
   "metadata": {
    "execution": {
     "iopub.execute_input": "2024-10-28T23:19:19.812487Z",
     "iopub.status.busy": "2024-10-28T23:19:19.812105Z",
     "iopub.status.idle": "2024-10-28T23:19:59.169374Z",
     "shell.execute_reply": "2024-10-28T23:19:59.168604Z",
     "shell.execute_reply.started": "2024-10-28T23:19:19.812444Z"
    }
   },
   "outputs": [
    {
     "ename": "NotFoundError",
     "evalue": "Could not find directory /kaggle/input/asl-alphabet/asl_alphabet_train/asl_alphabet_train",
     "output_type": "error",
     "traceback": [
      "\u001b[0;31m---------------------------------------------------------------------------\u001b[0m",
      "\u001b[0;31mNotFoundError\u001b[0m                             Traceback (most recent call last)",
      "Cell \u001b[0;32mIn [7], line 1\u001b[0m\n\u001b[0;32m----> 1\u001b[0m train_df, val_df \u001b[38;5;241m=\u001b[39m \u001b[43mimage_dataset_from_directory\u001b[49m\u001b[43m(\u001b[49m\u001b[43mtrain_dir\u001b[49m\u001b[43m,\u001b[49m\u001b[43mvalidation_split\u001b[49m\u001b[43m \u001b[49m\u001b[38;5;241;43m=\u001b[39;49m\u001b[43m \u001b[49m\u001b[38;5;241;43m0.3\u001b[39;49m\u001b[43m,\u001b[49m\u001b[43mlabels\u001b[49m\u001b[43m \u001b[49m\u001b[38;5;241;43m=\u001b[39;49m\u001b[38;5;124;43m'\u001b[39;49m\u001b[38;5;124;43minferred\u001b[39;49m\u001b[38;5;124;43m'\u001b[39;49m\u001b[43m,\u001b[49m\u001b[43mlabel_mode\u001b[49m\u001b[43m \u001b[49m\u001b[38;5;241;43m=\u001b[39;49m\u001b[43m \u001b[49m\u001b[38;5;124;43m'\u001b[39;49m\u001b[38;5;124;43mcategorical\u001b[39;49m\u001b[38;5;124;43m'\u001b[39;49m\u001b[43m,\u001b[49m\n\u001b[1;32m      2\u001b[0m \u001b[43m                                        \u001b[49m\u001b[43mseed\u001b[49m\u001b[43m \u001b[49m\u001b[38;5;241;43m=\u001b[39;49m\u001b[38;5;241;43m123\u001b[39;49m\u001b[43m,\u001b[49m\u001b[43msubset\u001b[49m\u001b[43m \u001b[49m\u001b[38;5;241;43m=\u001b[39;49m\u001b[43m \u001b[49m\u001b[38;5;124;43m'\u001b[39;49m\u001b[38;5;124;43mboth\u001b[39;49m\u001b[38;5;124;43m'\u001b[39;49m\u001b[43m,\u001b[49m\u001b[43mimage_size\u001b[49m\u001b[38;5;241;43m=\u001b[39;49m\u001b[43m(\u001b[49m\u001b[38;5;241;43m80\u001b[39;49m\u001b[43m,\u001b[49m\u001b[38;5;241;43m80\u001b[39;49m\u001b[43m)\u001b[49m\u001b[43m,\u001b[49m\u001b[43mbatch_size\u001b[49m\u001b[43m \u001b[49m\u001b[38;5;241;43m=\u001b[39;49m\u001b[43m \u001b[49m\u001b[38;5;241;43m256\u001b[39;49m\u001b[43m)\u001b[49m\n",
      "File \u001b[0;32m~/.pyenv/versions/3.10.6/lib/python3.10/site-packages/keras/src/utils/image_dataset_utils.py:232\u001b[0m, in \u001b[0;36mimage_dataset_from_directory\u001b[0;34m(directory, labels, label_mode, class_names, color_mode, batch_size, image_size, shuffle, seed, validation_split, subset, interpolation, follow_links, crop_to_aspect_ratio, pad_to_aspect_ratio, data_format, verbose)\u001b[0m\n\u001b[1;32m    230\u001b[0m \u001b[38;5;28;01mif\u001b[39;00m seed \u001b[38;5;129;01mis\u001b[39;00m \u001b[38;5;28;01mNone\u001b[39;00m:\n\u001b[1;32m    231\u001b[0m     seed \u001b[38;5;241m=\u001b[39m np\u001b[38;5;241m.\u001b[39mrandom\u001b[38;5;241m.\u001b[39mrandint(\u001b[38;5;241m1e6\u001b[39m)\n\u001b[0;32m--> 232\u001b[0m image_paths, labels, class_names \u001b[38;5;241m=\u001b[39m \u001b[43mdataset_utils\u001b[49m\u001b[38;5;241;43m.\u001b[39;49m\u001b[43mindex_directory\u001b[49m\u001b[43m(\u001b[49m\n\u001b[1;32m    233\u001b[0m \u001b[43m    \u001b[49m\u001b[43mdirectory\u001b[49m\u001b[43m,\u001b[49m\n\u001b[1;32m    234\u001b[0m \u001b[43m    \u001b[49m\u001b[43mlabels\u001b[49m\u001b[43m,\u001b[49m\n\u001b[1;32m    235\u001b[0m \u001b[43m    \u001b[49m\u001b[43mformats\u001b[49m\u001b[38;5;241;43m=\u001b[39;49m\u001b[43mALLOWLIST_FORMATS\u001b[49m\u001b[43m,\u001b[49m\n\u001b[1;32m    236\u001b[0m \u001b[43m    \u001b[49m\u001b[43mclass_names\u001b[49m\u001b[38;5;241;43m=\u001b[39;49m\u001b[43mclass_names\u001b[49m\u001b[43m,\u001b[49m\n\u001b[1;32m    237\u001b[0m \u001b[43m    \u001b[49m\u001b[43mshuffle\u001b[49m\u001b[38;5;241;43m=\u001b[39;49m\u001b[43mshuffle\u001b[49m\u001b[43m,\u001b[49m\n\u001b[1;32m    238\u001b[0m \u001b[43m    \u001b[49m\u001b[43mseed\u001b[49m\u001b[38;5;241;43m=\u001b[39;49m\u001b[43mseed\u001b[49m\u001b[43m,\u001b[49m\n\u001b[1;32m    239\u001b[0m \u001b[43m    \u001b[49m\u001b[43mfollow_links\u001b[49m\u001b[38;5;241;43m=\u001b[39;49m\u001b[43mfollow_links\u001b[49m\u001b[43m,\u001b[49m\n\u001b[1;32m    240\u001b[0m \u001b[43m    \u001b[49m\u001b[43mverbose\u001b[49m\u001b[38;5;241;43m=\u001b[39;49m\u001b[43mverbose\u001b[49m\u001b[43m,\u001b[49m\n\u001b[1;32m    241\u001b[0m \u001b[43m\u001b[49m\u001b[43m)\u001b[49m\n\u001b[1;32m    243\u001b[0m \u001b[38;5;28;01mif\u001b[39;00m label_mode \u001b[38;5;241m==\u001b[39m \u001b[38;5;124m\"\u001b[39m\u001b[38;5;124mbinary\u001b[39m\u001b[38;5;124m\"\u001b[39m \u001b[38;5;129;01mand\u001b[39;00m \u001b[38;5;28mlen\u001b[39m(class_names) \u001b[38;5;241m!=\u001b[39m \u001b[38;5;241m2\u001b[39m:\n\u001b[1;32m    244\u001b[0m     \u001b[38;5;28;01mraise\u001b[39;00m \u001b[38;5;167;01mValueError\u001b[39;00m(\n\u001b[1;32m    245\u001b[0m         \u001b[38;5;124m'\u001b[39m\u001b[38;5;124mWhen passing `label_mode=\u001b[39m\u001b[38;5;124m\"\u001b[39m\u001b[38;5;124mbinary\u001b[39m\u001b[38;5;124m\"\u001b[39m\u001b[38;5;124m`, there must be exactly 2 \u001b[39m\u001b[38;5;124m'\u001b[39m\n\u001b[1;32m    246\u001b[0m         \u001b[38;5;124mf\u001b[39m\u001b[38;5;124m\"\u001b[39m\u001b[38;5;124mclass_names. Received: class_names=\u001b[39m\u001b[38;5;132;01m{\u001b[39;00mclass_names\u001b[38;5;132;01m}\u001b[39;00m\u001b[38;5;124m\"\u001b[39m\n\u001b[1;32m    247\u001b[0m     )\n",
      "File \u001b[0;32m~/.pyenv/versions/3.10.6/lib/python3.10/site-packages/keras/src/utils/dataset_utils.py:530\u001b[0m, in \u001b[0;36mindex_directory\u001b[0;34m(directory, labels, formats, class_names, shuffle, seed, follow_links, verbose)\u001b[0m\n\u001b[1;32m    528\u001b[0m \u001b[38;5;28;01mif\u001b[39;00m labels \u001b[38;5;241m==\u001b[39m \u001b[38;5;124m\"\u001b[39m\u001b[38;5;124minferred\u001b[39m\u001b[38;5;124m\"\u001b[39m:\n\u001b[1;32m    529\u001b[0m     subdirs \u001b[38;5;241m=\u001b[39m []\n\u001b[0;32m--> 530\u001b[0m     \u001b[38;5;28;01mfor\u001b[39;00m subdir \u001b[38;5;129;01min\u001b[39;00m \u001b[38;5;28msorted\u001b[39m(\u001b[43mtf\u001b[49m\u001b[38;5;241;43m.\u001b[39;49m\u001b[43mio\u001b[49m\u001b[38;5;241;43m.\u001b[39;49m\u001b[43mgfile\u001b[49m\u001b[38;5;241;43m.\u001b[39;49m\u001b[43mlistdir\u001b[49m\u001b[43m(\u001b[49m\u001b[43mdirectory\u001b[49m\u001b[43m)\u001b[49m):\n\u001b[1;32m    531\u001b[0m         \u001b[38;5;28;01mif\u001b[39;00m tf\u001b[38;5;241m.\u001b[39mio\u001b[38;5;241m.\u001b[39mgfile\u001b[38;5;241m.\u001b[39misdir(tf\u001b[38;5;241m.\u001b[39mio\u001b[38;5;241m.\u001b[39mgfile\u001b[38;5;241m.\u001b[39mjoin(directory, subdir)):\n\u001b[1;32m    532\u001b[0m             \u001b[38;5;28;01mif\u001b[39;00m \u001b[38;5;129;01mnot\u001b[39;00m subdir\u001b[38;5;241m.\u001b[39mstartswith(\u001b[38;5;124m\"\u001b[39m\u001b[38;5;124m.\u001b[39m\u001b[38;5;124m\"\u001b[39m):\n",
      "File \u001b[0;32m~/.pyenv/versions/3.10.6/lib/python3.10/site-packages/tensorflow/python/lib/io/file_io.py:768\u001b[0m, in \u001b[0;36mlist_directory_v2\u001b[0;34m(path)\u001b[0m\n\u001b[1;32m    753\u001b[0m \u001b[38;5;124;03m\"\"\"Returns a list of entries contained within a directory.\u001b[39;00m\n\u001b[1;32m    754\u001b[0m \n\u001b[1;32m    755\u001b[0m \u001b[38;5;124;03mThe list is in arbitrary order. It does not contain the special entries \".\"\u001b[39;00m\n\u001b[0;32m   (...)\u001b[0m\n\u001b[1;32m    765\u001b[0m \u001b[38;5;124;03m  errors.NotFoundError if directory doesn't exist\u001b[39;00m\n\u001b[1;32m    766\u001b[0m \u001b[38;5;124;03m\"\"\"\u001b[39;00m\n\u001b[1;32m    767\u001b[0m \u001b[38;5;28;01mif\u001b[39;00m \u001b[38;5;129;01mnot\u001b[39;00m is_directory(path):\n\u001b[0;32m--> 768\u001b[0m   \u001b[38;5;28;01mraise\u001b[39;00m errors\u001b[38;5;241m.\u001b[39mNotFoundError(\n\u001b[1;32m    769\u001b[0m       node_def\u001b[38;5;241m=\u001b[39m\u001b[38;5;28;01mNone\u001b[39;00m,\n\u001b[1;32m    770\u001b[0m       op\u001b[38;5;241m=\u001b[39m\u001b[38;5;28;01mNone\u001b[39;00m,\n\u001b[1;32m    771\u001b[0m       message\u001b[38;5;241m=\u001b[39m\u001b[38;5;124m\"\u001b[39m\u001b[38;5;124mCould not find directory \u001b[39m\u001b[38;5;132;01m{}\u001b[39;00m\u001b[38;5;124m\"\u001b[39m\u001b[38;5;241m.\u001b[39mformat(path))\n\u001b[1;32m    773\u001b[0m \u001b[38;5;66;03m# Convert each element to string, since the return values of the\u001b[39;00m\n\u001b[1;32m    774\u001b[0m \u001b[38;5;66;03m# vector of string should be interpreted as strings, not bytes.\u001b[39;00m\n\u001b[1;32m    775\u001b[0m \u001b[38;5;28;01mreturn\u001b[39;00m [\n\u001b[1;32m    776\u001b[0m     compat\u001b[38;5;241m.\u001b[39mas_str_any(filename)\n\u001b[1;32m    777\u001b[0m     \u001b[38;5;28;01mfor\u001b[39;00m filename \u001b[38;5;129;01min\u001b[39;00m _pywrap_file_io\u001b[38;5;241m.\u001b[39mGetChildren(compat\u001b[38;5;241m.\u001b[39mpath_to_bytes(path))\n\u001b[1;32m    778\u001b[0m ]\n",
      "\u001b[0;31mNotFoundError\u001b[0m: Could not find directory /kaggle/input/asl-alphabet/asl_alphabet_train/asl_alphabet_train"
     ]
    }
   ],
   "source": [
    "train_df, val_df = image_dataset_from_directory(train_dir,validation_split = 0.3,labels ='inferred',label_mode = 'categorical',\n",
    "                                        seed =123,subset = 'both',image_size=(80,80),batch_size = 256)\n"
   ]
  },
  {
   "cell_type": "code",
   "execution_count": 5,
   "metadata": {
    "execution": {
     "iopub.execute_input": "2024-10-28T23:20:09.397552Z",
     "iopub.status.busy": "2024-10-28T23:20:09.396653Z",
     "iopub.status.idle": "2024-10-28T23:20:09.565094Z",
     "shell.execute_reply": "2024-10-28T23:20:09.564151Z",
     "shell.execute_reply.started": "2024-10-28T23:20:09.397511Z"
    }
   },
   "outputs": [
    {
     "name": "stderr",
     "output_type": "stream",
     "text": [
      "/opt/conda/lib/python3.10/site-packages/keras/src/layers/preprocessing/tf_data_layer.py:18: UserWarning: Do not pass an `input_shape`/`input_dim` argument to a layer. When using Sequential models, prefer using an `Input(shape)` object as the first layer in the model instead.\n",
      "  super().__init__(**kwargs)\n"
     ]
    }
   ],
   "source": [
    "model = Sequential()\n",
    "\n",
    "model.add(Rescaling(scale = 1./255.,input_shape = (80,80,3)))\n",
    "\n",
    "model.add(layers.RandomFlip(\"horizontal\"))\n",
    "model.add(layers.RandomZoom(0.2))\n",
    "model.add(layers.RandomTranslation(0.2, 0.2))\n",
    "model.add(layers.RandomContrast(0.1))\n",
    "\n",
    "\n",
    "model.add(Conv2D(16,(4,4),padding = 'same',activation = 'relu'))\n",
    "model.add(MaxPool2D((2,2)))\n",
    "model.add(Dropout(0.2))\n",
    "\n",
    "model.add(Conv2D(32,(3,3),padding = 'same',activation = 'relu'))\n",
    "model.add(MaxPool2D((2,2)))\n",
    "model.add(Dropout(0.3))\n",
    "\n",
    "model.add(Conv2D(64,(2,2),padding = 'same',activation = 'relu'))\n",
    "model.add(MaxPool2D((2,2)))\n",
    "model.add(Dropout(0.4))\n",
    "\n",
    "model.add(Flatten())\n",
    "\n",
    "model.add(Dense(50,activation ='relu'))\n",
    "model.add(Dropout(0.5))\n",
    "model.add(Dense(29,activation = 'softmax'))"
   ]
  },
  {
   "cell_type": "code",
   "execution_count": 6,
   "metadata": {
    "execution": {
     "iopub.execute_input": "2024-10-28T23:20:11.396632Z",
     "iopub.status.busy": "2024-10-28T23:20:11.395878Z",
     "iopub.status.idle": "2024-10-28T23:20:11.410303Z",
     "shell.execute_reply": "2024-10-28T23:20:11.409365Z",
     "shell.execute_reply.started": "2024-10-28T23:20:11.396592Z"
    }
   },
   "outputs": [],
   "source": [
    "model.compile(loss = 'categorical_crossentropy',optimizer = 'adam',metrics =['accuracy'])"
   ]
  },
  {
   "cell_type": "code",
   "execution_count": 7,
   "metadata": {
    "execution": {
     "iopub.execute_input": "2024-10-28T23:20:14.544550Z",
     "iopub.status.busy": "2024-10-28T23:20:14.543890Z",
     "iopub.status.idle": "2024-10-29T00:19:02.317583Z",
     "shell.execute_reply": "2024-10-29T00:19:02.316639Z",
     "shell.execute_reply.started": "2024-10-28T23:20:14.544512Z"
    }
   },
   "outputs": [
    {
     "name": "stdout",
     "output_type": "stream",
     "text": [
      "Epoch 1/150\n"
     ]
    },
    {
     "name": "stderr",
     "output_type": "stream",
     "text": [
      "WARNING: All log messages before absl::InitializeLog() is called are written to STDERR\n",
      "I0000 00:00:1730157616.762484     106 service.cc:145] XLA service 0x7bb5c8003310 initialized for platform CUDA (this does not guarantee that XLA will be used). Devices:\n",
      "I0000 00:00:1730157616.762546     106 service.cc:153]   StreamExecutor device (0): Tesla T4, Compute Capability 7.5\n",
      "I0000 00:00:1730157616.762553     106 service.cc:153]   StreamExecutor device (1): Tesla T4, Compute Capability 7.5\n"
     ]
    },
    {
     "name": "stdout",
     "output_type": "stream",
     "text": [
      "\u001b[1m  3/238\u001b[0m \u001b[37m━━━━━━━━━━━━━━━━━━━━\u001b[0m \u001b[1m8s\u001b[0m 36ms/step - accuracy: 0.0417 - loss: 3.5569  "
     ]
    },
    {
     "name": "stderr",
     "output_type": "stream",
     "text": [
      "I0000 00:00:1730157625.674694     106 device_compiler.h:188] Compiled cluster using XLA!  This line is logged at most once for the lifetime of the process.\n"
     ]
    },
    {
     "name": "stdout",
     "output_type": "stream",
     "text": [
      "\u001b[1m238/238\u001b[0m \u001b[32m━━━━━━━━━━━━━━━━━━━━\u001b[0m\u001b[37m\u001b[0m \u001b[1m127s\u001b[0m 489ms/step - accuracy: 0.0397 - loss: 3.3653 - val_accuracy: 0.0989 - val_loss: 3.2576\n",
      "Epoch 2/150\n",
      "\u001b[1m238/238\u001b[0m \u001b[32m━━━━━━━━━━━━━━━━━━━━\u001b[0m\u001b[37m\u001b[0m \u001b[1m27s\u001b[0m 114ms/step - accuracy: 0.0673 - loss: 3.2180 - val_accuracy: 0.2022 - val_loss: 2.7803\n",
      "Epoch 3/150\n",
      "\u001b[1m238/238\u001b[0m \u001b[32m━━━━━━━━━━━━━━━━━━━━\u001b[0m\u001b[37m\u001b[0m \u001b[1m27s\u001b[0m 114ms/step - accuracy: 0.1155 - loss: 2.9019 - val_accuracy: 0.3431 - val_loss: 2.4026\n",
      "Epoch 4/150\n",
      "\u001b[1m238/238\u001b[0m \u001b[32m━━━━━━━━━━━━━━━━━━━━\u001b[0m\u001b[37m\u001b[0m \u001b[1m27s\u001b[0m 115ms/step - accuracy: 0.1501 - loss: 2.6896 - val_accuracy: 0.4107 - val_loss: 2.1502\n",
      "Epoch 5/150\n",
      "\u001b[1m238/238\u001b[0m \u001b[32m━━━━━━━━━━━━━━━━━━━━\u001b[0m\u001b[37m\u001b[0m \u001b[1m27s\u001b[0m 113ms/step - accuracy: 0.1638 - loss: 2.6006 - val_accuracy: 0.4560 - val_loss: 2.0077\n",
      "Epoch 6/150\n",
      "\u001b[1m238/238\u001b[0m \u001b[32m━━━━━━━━━━━━━━━━━━━━\u001b[0m\u001b[37m\u001b[0m \u001b[1m28s\u001b[0m 116ms/step - accuracy: 0.1732 - loss: 2.5446 - val_accuracy: 0.4706 - val_loss: 1.9229\n",
      "Epoch 7/150\n",
      "\u001b[1m238/238\u001b[0m \u001b[32m━━━━━━━━━━━━━━━━━━━━\u001b[0m\u001b[37m\u001b[0m \u001b[1m27s\u001b[0m 111ms/step - accuracy: 0.1955 - loss: 2.4579 - val_accuracy: 0.5434 - val_loss: 1.7824\n",
      "Epoch 8/150\n",
      "\u001b[1m238/238\u001b[0m \u001b[32m━━━━━━━━━━━━━━━━━━━━\u001b[0m\u001b[37m\u001b[0m \u001b[1m27s\u001b[0m 115ms/step - accuracy: 0.2168 - loss: 2.3711 - val_accuracy: 0.5938 - val_loss: 1.6085\n",
      "Epoch 9/150\n",
      "\u001b[1m238/238\u001b[0m \u001b[32m━━━━━━━━━━━━━━━━━━━━\u001b[0m\u001b[37m\u001b[0m \u001b[1m27s\u001b[0m 113ms/step - accuracy: 0.2232 - loss: 2.3248 - val_accuracy: 0.6282 - val_loss: 1.5755\n",
      "Epoch 10/150\n",
      "\u001b[1m238/238\u001b[0m \u001b[32m━━━━━━━━━━━━━━━━━━━━\u001b[0m\u001b[37m\u001b[0m \u001b[1m27s\u001b[0m 114ms/step - accuracy: 0.2399 - loss: 2.2951 - val_accuracy: 0.6540 - val_loss: 1.4685\n",
      "Epoch 11/150\n",
      "\u001b[1m238/238\u001b[0m \u001b[32m━━━━━━━━━━━━━━━━━━━━\u001b[0m\u001b[37m\u001b[0m \u001b[1m27s\u001b[0m 113ms/step - accuracy: 0.2677 - loss: 2.2083 - val_accuracy: 0.6730 - val_loss: 1.3767\n",
      "Epoch 12/150\n",
      "\u001b[1m238/238\u001b[0m \u001b[32m━━━━━━━━━━━━━━━━━━━━\u001b[0m\u001b[37m\u001b[0m \u001b[1m27s\u001b[0m 114ms/step - accuracy: 0.2818 - loss: 2.1495 - val_accuracy: 0.7058 - val_loss: 1.2513\n",
      "Epoch 13/150\n",
      "\u001b[1m238/238\u001b[0m \u001b[32m━━━━━━━━━━━━━━━━━━━━\u001b[0m\u001b[37m\u001b[0m \u001b[1m27s\u001b[0m 112ms/step - accuracy: 0.3045 - loss: 2.0393 - val_accuracy: 0.7297 - val_loss: 1.1740\n",
      "Epoch 14/150\n",
      "\u001b[1m238/238\u001b[0m \u001b[32m━━━━━━━━━━━━━━━━━━━━\u001b[0m\u001b[37m\u001b[0m \u001b[1m27s\u001b[0m 113ms/step - accuracy: 0.3350 - loss: 1.9357 - val_accuracy: 0.7436 - val_loss: 1.1336\n",
      "Epoch 15/150\n",
      "\u001b[1m238/238\u001b[0m \u001b[32m━━━━━━━━━━━━━━━━━━━━\u001b[0m\u001b[37m\u001b[0m \u001b[1m28s\u001b[0m 116ms/step - accuracy: 0.3457 - loss: 1.9010 - val_accuracy: 0.7721 - val_loss: 1.0589\n",
      "Epoch 16/150\n",
      "\u001b[1m238/238\u001b[0m \u001b[32m━━━━━━━━━━━━━━━━━━━━\u001b[0m\u001b[37m\u001b[0m \u001b[1m27s\u001b[0m 112ms/step - accuracy: 0.3577 - loss: 1.8685 - val_accuracy: 0.7620 - val_loss: 1.0371\n",
      "Epoch 17/150\n",
      "\u001b[1m238/238\u001b[0m \u001b[32m━━━━━━━━━━━━━━━━━━━━\u001b[0m\u001b[37m\u001b[0m \u001b[1m28s\u001b[0m 116ms/step - accuracy: 0.3648 - loss: 1.8486 - val_accuracy: 0.7967 - val_loss: 0.9930\n",
      "Epoch 18/150\n",
      "\u001b[1m238/238\u001b[0m \u001b[32m━━━━━━━━━━━━━━━━━━━━\u001b[0m\u001b[37m\u001b[0m \u001b[1m27s\u001b[0m 113ms/step - accuracy: 0.3824 - loss: 1.8022 - val_accuracy: 0.8257 - val_loss: 0.8913\n",
      "Epoch 19/150\n",
      "\u001b[1m238/238\u001b[0m \u001b[32m━━━━━━━━━━━━━━━━━━━━\u001b[0m\u001b[37m\u001b[0m \u001b[1m27s\u001b[0m 114ms/step - accuracy: 0.4047 - loss: 1.7281 - val_accuracy: 0.8239 - val_loss: 0.8774\n",
      "Epoch 20/150\n",
      "\u001b[1m238/238\u001b[0m \u001b[32m━━━━━━━━━━━━━━━━━━━━\u001b[0m\u001b[37m\u001b[0m \u001b[1m26s\u001b[0m 111ms/step - accuracy: 0.4210 - loss: 1.6761 - val_accuracy: 0.8436 - val_loss: 0.7883\n",
      "Epoch 21/150\n",
      "\u001b[1m238/238\u001b[0m \u001b[32m━━━━━━━━━━━━━━━━━━━━\u001b[0m\u001b[37m\u001b[0m \u001b[1m27s\u001b[0m 114ms/step - accuracy: 0.4288 - loss: 1.6201 - val_accuracy: 0.8443 - val_loss: 0.7868\n",
      "Epoch 22/150\n",
      "\u001b[1m238/238\u001b[0m \u001b[32m━━━━━━━━━━━━━━━━━━━━\u001b[0m\u001b[37m\u001b[0m \u001b[1m27s\u001b[0m 113ms/step - accuracy: 0.4418 - loss: 1.5811 - val_accuracy: 0.8462 - val_loss: 0.7186\n",
      "Epoch 23/150\n",
      "\u001b[1m238/238\u001b[0m \u001b[32m━━━━━━━━━━━━━━━━━━━━\u001b[0m\u001b[37m\u001b[0m \u001b[1m27s\u001b[0m 114ms/step - accuracy: 0.4494 - loss: 1.5433 - val_accuracy: 0.8592 - val_loss: 0.6908\n",
      "Epoch 24/150\n",
      "\u001b[1m238/238\u001b[0m \u001b[32m━━━━━━━━━━━━━━━━━━━━\u001b[0m\u001b[37m\u001b[0m \u001b[1m27s\u001b[0m 114ms/step - accuracy: 0.4568 - loss: 1.5235 - val_accuracy: 0.8628 - val_loss: 0.6589\n",
      "Epoch 25/150\n",
      "\u001b[1m238/238\u001b[0m \u001b[32m━━━━━━━━━━━━━━━━━━━━\u001b[0m\u001b[37m\u001b[0m \u001b[1m27s\u001b[0m 113ms/step - accuracy: 0.4710 - loss: 1.4832 - val_accuracy: 0.8725 - val_loss: 0.6217\n",
      "Epoch 26/150\n",
      "\u001b[1m238/238\u001b[0m \u001b[32m━━━━━━━━━━━━━━━━━━━━\u001b[0m\u001b[37m\u001b[0m \u001b[1m27s\u001b[0m 115ms/step - accuracy: 0.4875 - loss: 1.4191 - val_accuracy: 0.8911 - val_loss: 0.5779\n",
      "Epoch 27/150\n",
      "\u001b[1m238/238\u001b[0m \u001b[32m━━━━━━━━━━━━━━━━━━━━\u001b[0m\u001b[37m\u001b[0m \u001b[1m27s\u001b[0m 112ms/step - accuracy: 0.5012 - loss: 1.3821 - val_accuracy: 0.8933 - val_loss: 0.5540\n",
      "Epoch 28/150\n",
      "\u001b[1m238/238\u001b[0m \u001b[32m━━━━━━━━━━━━━━━━━━━━\u001b[0m\u001b[37m\u001b[0m \u001b[1m29s\u001b[0m 122ms/step - accuracy: 0.5039 - loss: 1.3748 - val_accuracy: 0.8870 - val_loss: 0.5468\n",
      "Epoch 29/150\n",
      "\u001b[1m238/238\u001b[0m \u001b[32m━━━━━━━━━━━━━━━━━━━━\u001b[0m\u001b[37m\u001b[0m \u001b[1m27s\u001b[0m 114ms/step - accuracy: 0.5166 - loss: 1.3289 - val_accuracy: 0.9052 - val_loss: 0.5004\n",
      "Epoch 30/150\n",
      "\u001b[1m238/238\u001b[0m \u001b[32m━━━━━━━━━━━━━━━━━━━━\u001b[0m\u001b[37m\u001b[0m \u001b[1m28s\u001b[0m 119ms/step - accuracy: 0.5366 - loss: 1.2925 - val_accuracy: 0.9113 - val_loss: 0.4749\n",
      "Epoch 31/150\n",
      "\u001b[1m238/238\u001b[0m \u001b[32m━━━━━━━━━━━━━━━━━━━━\u001b[0m\u001b[37m\u001b[0m \u001b[1m27s\u001b[0m 113ms/step - accuracy: 0.5413 - loss: 1.2625 - val_accuracy: 0.9156 - val_loss: 0.4533\n",
      "Epoch 32/150\n",
      "\u001b[1m238/238\u001b[0m \u001b[32m━━━━━━━━━━━━━━━━━━━━\u001b[0m\u001b[37m\u001b[0m \u001b[1m28s\u001b[0m 116ms/step - accuracy: 0.5513 - loss: 1.2302 - val_accuracy: 0.9185 - val_loss: 0.4457\n",
      "Epoch 33/150\n",
      "\u001b[1m238/238\u001b[0m \u001b[32m━━━━━━━━━━━━━━━━━━━━\u001b[0m\u001b[37m\u001b[0m \u001b[1m28s\u001b[0m 117ms/step - accuracy: 0.5611 - loss: 1.1947 - val_accuracy: 0.9258 - val_loss: 0.4320\n",
      "Epoch 34/150\n",
      "\u001b[1m238/238\u001b[0m \u001b[32m━━━━━━━━━━━━━━━━━━━━\u001b[0m\u001b[37m\u001b[0m \u001b[1m27s\u001b[0m 112ms/step - accuracy: 0.5629 - loss: 1.2021 - val_accuracy: 0.9316 - val_loss: 0.4058\n",
      "Epoch 35/150\n",
      "\u001b[1m238/238\u001b[0m \u001b[32m━━━━━━━━━━━━━━━━━━━━\u001b[0m\u001b[37m\u001b[0m \u001b[1m27s\u001b[0m 115ms/step - accuracy: 0.5852 - loss: 1.1305 - val_accuracy: 0.9412 - val_loss: 0.3718\n",
      "Epoch 36/150\n",
      "\u001b[1m238/238\u001b[0m \u001b[32m━━━━━━━━━━━━━━━━━━━━\u001b[0m\u001b[37m\u001b[0m \u001b[1m27s\u001b[0m 113ms/step - accuracy: 0.5977 - loss: 1.0942 - val_accuracy: 0.9293 - val_loss: 0.3609\n",
      "Epoch 37/150\n",
      "\u001b[1m238/238\u001b[0m \u001b[32m━━━━━━━━━━━━━━━━━━━━\u001b[0m\u001b[37m\u001b[0m \u001b[1m27s\u001b[0m 114ms/step - accuracy: 0.6098 - loss: 1.0671 - val_accuracy: 0.9446 - val_loss: 0.3277\n",
      "Epoch 38/150\n",
      "\u001b[1m238/238\u001b[0m \u001b[32m━━━━━━━━━━━━━━━━━━━━\u001b[0m\u001b[37m\u001b[0m \u001b[1m27s\u001b[0m 113ms/step - accuracy: 0.6174 - loss: 1.0431 - val_accuracy: 0.9487 - val_loss: 0.3359\n",
      "Epoch 39/150\n",
      "\u001b[1m238/238\u001b[0m \u001b[32m━━━━━━━━━━━━━━━━━━━━\u001b[0m\u001b[37m\u001b[0m \u001b[1m27s\u001b[0m 114ms/step - accuracy: 0.6210 - loss: 1.0365 - val_accuracy: 0.9409 - val_loss: 0.3271\n",
      "Epoch 40/150\n",
      "\u001b[1m238/238\u001b[0m \u001b[32m━━━━━━━━━━━━━━━━━━━━\u001b[0m\u001b[37m\u001b[0m \u001b[1m27s\u001b[0m 113ms/step - accuracy: 0.6248 - loss: 1.0190 - val_accuracy: 0.9502 - val_loss: 0.3121\n",
      "Epoch 41/150\n",
      "\u001b[1m238/238\u001b[0m \u001b[32m━━━━━━━━━━━━━━━━━━━━\u001b[0m\u001b[37m\u001b[0m \u001b[1m27s\u001b[0m 113ms/step - accuracy: 0.6241 - loss: 1.0238 - val_accuracy: 0.9522 - val_loss: 0.3036\n",
      "Epoch 42/150\n",
      "\u001b[1m238/238\u001b[0m \u001b[32m━━━━━━━━━━━━━━━━━━━━\u001b[0m\u001b[37m\u001b[0m \u001b[1m27s\u001b[0m 112ms/step - accuracy: 0.6266 - loss: 1.0142 - val_accuracy: 0.9520 - val_loss: 0.2930\n",
      "Epoch 43/150\n",
      "\u001b[1m238/238\u001b[0m \u001b[32m━━━━━━━━━━━━━━━━━━━━\u001b[0m\u001b[37m\u001b[0m \u001b[1m27s\u001b[0m 114ms/step - accuracy: 0.6340 - loss: 0.9979 - val_accuracy: 0.9552 - val_loss: 0.2898\n",
      "Epoch 44/150\n",
      "\u001b[1m238/238\u001b[0m \u001b[32m━━━━━━━━━━━━━━━━━━━━\u001b[0m\u001b[37m\u001b[0m \u001b[1m27s\u001b[0m 114ms/step - accuracy: 0.6377 - loss: 0.9906 - val_accuracy: 0.9554 - val_loss: 0.2758\n",
      "Epoch 45/150\n",
      "\u001b[1m238/238\u001b[0m \u001b[32m━━━━━━━━━━━━━━━━━━━━\u001b[0m\u001b[37m\u001b[0m \u001b[1m27s\u001b[0m 112ms/step - accuracy: 0.6521 - loss: 0.9536 - val_accuracy: 0.9550 - val_loss: 0.2670\n",
      "Epoch 46/150\n",
      "\u001b[1m238/238\u001b[0m \u001b[32m━━━━━━━━━━━━━━━━━━━━\u001b[0m\u001b[37m\u001b[0m \u001b[1m27s\u001b[0m 114ms/step - accuracy: 0.6569 - loss: 0.9288 - val_accuracy: 0.9590 - val_loss: 0.2482\n",
      "Epoch 47/150\n",
      "\u001b[1m238/238\u001b[0m \u001b[32m━━━━━━━━━━━━━━━━━━━━\u001b[0m\u001b[37m\u001b[0m \u001b[1m27s\u001b[0m 112ms/step - accuracy: 0.6660 - loss: 0.9097 - val_accuracy: 0.9585 - val_loss: 0.2401\n",
      "Epoch 48/150\n",
      "\u001b[1m238/238\u001b[0m \u001b[32m━━━━━━━━━━━━━━━━━━━━\u001b[0m\u001b[37m\u001b[0m \u001b[1m27s\u001b[0m 114ms/step - accuracy: 0.6791 - loss: 0.8715 - val_accuracy: 0.9598 - val_loss: 0.2260\n",
      "Epoch 49/150\n",
      "\u001b[1m238/238\u001b[0m \u001b[32m━━━━━━━━━━━━━━━━━━━━\u001b[0m\u001b[37m\u001b[0m \u001b[1m27s\u001b[0m 113ms/step - accuracy: 0.6783 - loss: 0.8610 - val_accuracy: 0.9670 - val_loss: 0.2096\n",
      "Epoch 50/150\n",
      "\u001b[1m238/238\u001b[0m \u001b[32m━━━━━━━━━━━━━━━━━━━━\u001b[0m\u001b[37m\u001b[0m \u001b[1m27s\u001b[0m 115ms/step - accuracy: 0.6898 - loss: 0.8322 - val_accuracy: 0.9651 - val_loss: 0.2119\n",
      "Epoch 51/150\n",
      "\u001b[1m238/238\u001b[0m \u001b[32m━━━━━━━━━━━━━━━━━━━━\u001b[0m\u001b[37m\u001b[0m \u001b[1m27s\u001b[0m 111ms/step - accuracy: 0.7007 - loss: 0.8188 - val_accuracy: 0.9682 - val_loss: 0.1919\n",
      "Epoch 52/150\n",
      "\u001b[1m238/238\u001b[0m \u001b[32m━━━━━━━━━━━━━━━━━━━━\u001b[0m\u001b[37m\u001b[0m \u001b[1m27s\u001b[0m 114ms/step - accuracy: 0.7078 - loss: 0.8031 - val_accuracy: 0.9667 - val_loss: 0.1942\n",
      "Epoch 53/150\n",
      "\u001b[1m238/238\u001b[0m \u001b[32m━━━━━━━━━━━━━━━━━━━━\u001b[0m\u001b[37m\u001b[0m \u001b[1m27s\u001b[0m 112ms/step - accuracy: 0.7142 - loss: 0.7782 - val_accuracy: 0.9715 - val_loss: 0.1786\n",
      "Epoch 54/150\n",
      "\u001b[1m238/238\u001b[0m \u001b[32m━━━━━━━━━━━━━━━━━━━━\u001b[0m\u001b[37m\u001b[0m \u001b[1m26s\u001b[0m 111ms/step - accuracy: 0.7177 - loss: 0.7690 - val_accuracy: 0.9669 - val_loss: 0.1792\n",
      "Epoch 55/150\n",
      "\u001b[1m238/238\u001b[0m \u001b[32m━━━━━━━━━━━━━━━━━━━━\u001b[0m\u001b[37m\u001b[0m \u001b[1m27s\u001b[0m 113ms/step - accuracy: 0.7215 - loss: 0.7730 - val_accuracy: 0.9729 - val_loss: 0.1707\n",
      "Epoch 56/150\n",
      "\u001b[1m238/238\u001b[0m \u001b[32m━━━━━━━━━━━━━━━━━━━━\u001b[0m\u001b[37m\u001b[0m \u001b[1m27s\u001b[0m 112ms/step - accuracy: 0.7254 - loss: 0.7489 - val_accuracy: 0.9738 - val_loss: 0.1656\n",
      "Epoch 57/150\n",
      "\u001b[1m238/238\u001b[0m \u001b[32m━━━━━━━━━━━━━━━━━━━━\u001b[0m\u001b[37m\u001b[0m \u001b[1m27s\u001b[0m 114ms/step - accuracy: 0.7315 - loss: 0.7421 - val_accuracy: 0.9716 - val_loss: 0.1583\n",
      "Epoch 58/150\n",
      "\u001b[1m238/238\u001b[0m \u001b[32m━━━━━━━━━━━━━━━━━━━━\u001b[0m\u001b[37m\u001b[0m \u001b[1m27s\u001b[0m 112ms/step - accuracy: 0.7332 - loss: 0.7357 - val_accuracy: 0.9751 - val_loss: 0.1606\n",
      "Epoch 59/150\n",
      "\u001b[1m238/238\u001b[0m \u001b[32m━━━━━━━━━━━━━━━━━━━━\u001b[0m\u001b[37m\u001b[0m \u001b[1m27s\u001b[0m 114ms/step - accuracy: 0.7411 - loss: 0.7086 - val_accuracy: 0.9740 - val_loss: 0.1476\n",
      "Epoch 60/150\n",
      "\u001b[1m238/238\u001b[0m \u001b[32m━━━━━━━━━━━━━━━━━━━━\u001b[0m\u001b[37m\u001b[0m \u001b[1m26s\u001b[0m 110ms/step - accuracy: 0.7427 - loss: 0.6993 - val_accuracy: 0.9728 - val_loss: 0.1521\n",
      "Epoch 61/150\n",
      "\u001b[1m238/238\u001b[0m \u001b[32m━━━━━━━━━━━━━━━━━━━━\u001b[0m\u001b[37m\u001b[0m \u001b[1m27s\u001b[0m 115ms/step - accuracy: 0.7457 - loss: 0.6968 - val_accuracy: 0.9756 - val_loss: 0.1468\n",
      "Epoch 62/150\n",
      "\u001b[1m238/238\u001b[0m \u001b[32m━━━━━━━━━━━━━━━━━━━━\u001b[0m\u001b[37m\u001b[0m \u001b[1m27s\u001b[0m 112ms/step - accuracy: 0.7480 - loss: 0.6917 - val_accuracy: 0.9809 - val_loss: 0.1336\n",
      "Epoch 63/150\n",
      "\u001b[1m238/238\u001b[0m \u001b[32m━━━━━━━━━━━━━━━━━━━━\u001b[0m\u001b[37m\u001b[0m \u001b[1m27s\u001b[0m 115ms/step - accuracy: 0.7470 - loss: 0.6999 - val_accuracy: 0.9785 - val_loss: 0.1310\n",
      "Epoch 64/150\n",
      "\u001b[1m238/238\u001b[0m \u001b[32m━━━━━━━━━━━━━━━━━━━━\u001b[0m\u001b[37m\u001b[0m \u001b[1m27s\u001b[0m 113ms/step - accuracy: 0.7520 - loss: 0.6805 - val_accuracy: 0.9808 - val_loss: 0.1266\n",
      "Epoch 65/150\n",
      "\u001b[1m238/238\u001b[0m \u001b[32m━━━━━━━━━━━━━━━━━━━━\u001b[0m\u001b[37m\u001b[0m \u001b[1m27s\u001b[0m 112ms/step - accuracy: 0.7604 - loss: 0.6584 - val_accuracy: 0.9784 - val_loss: 0.1263\n",
      "Epoch 66/150\n",
      "\u001b[1m238/238\u001b[0m \u001b[32m━━━━━━━━━━━━━━━━━━━━\u001b[0m\u001b[37m\u001b[0m \u001b[1m27s\u001b[0m 114ms/step - accuracy: 0.7606 - loss: 0.6587 - val_accuracy: 0.9789 - val_loss: 0.1406\n",
      "Epoch 67/150\n",
      "\u001b[1m238/238\u001b[0m \u001b[32m━━━━━━━━━━━━━━━━━━━━\u001b[0m\u001b[37m\u001b[0m \u001b[1m26s\u001b[0m 111ms/step - accuracy: 0.7582 - loss: 0.6715 - val_accuracy: 0.9826 - val_loss: 0.1202\n",
      "Epoch 68/150\n",
      "\u001b[1m238/238\u001b[0m \u001b[32m━━━━━━━━━━━━━━━━━━━━\u001b[0m\u001b[37m\u001b[0m \u001b[1m27s\u001b[0m 115ms/step - accuracy: 0.7568 - loss: 0.6676 - val_accuracy: 0.9755 - val_loss: 0.1367\n",
      "Epoch 69/150\n",
      "\u001b[1m238/238\u001b[0m \u001b[32m━━━━━━━━━━━━━━━━━━━━\u001b[0m\u001b[37m\u001b[0m \u001b[1m27s\u001b[0m 111ms/step - accuracy: 0.7586 - loss: 0.6684 - val_accuracy: 0.9826 - val_loss: 0.1158\n",
      "Epoch 70/150\n",
      "\u001b[1m238/238\u001b[0m \u001b[32m━━━━━━━━━━━━━━━━━━━━\u001b[0m\u001b[37m\u001b[0m \u001b[1m27s\u001b[0m 114ms/step - accuracy: 0.7669 - loss: 0.6427 - val_accuracy: 0.9821 - val_loss: 0.1142\n",
      "Epoch 71/150\n",
      "\u001b[1m238/238\u001b[0m \u001b[32m━━━━━━━━━━━━━━━━━━━━\u001b[0m\u001b[37m\u001b[0m \u001b[1m27s\u001b[0m 112ms/step - accuracy: 0.7664 - loss: 0.6555 - val_accuracy: 0.9829 - val_loss: 0.1074\n",
      "Epoch 72/150\n",
      "\u001b[1m238/238\u001b[0m \u001b[32m━━━━━━━━━━━━━━━━━━━━\u001b[0m\u001b[37m\u001b[0m \u001b[1m27s\u001b[0m 113ms/step - accuracy: 0.7671 - loss: 0.6548 - val_accuracy: 0.9835 - val_loss: 0.1112\n",
      "Epoch 73/150\n",
      "\u001b[1m238/238\u001b[0m \u001b[32m━━━━━━━━━━━━━━━━━━━━\u001b[0m\u001b[37m\u001b[0m \u001b[1m27s\u001b[0m 111ms/step - accuracy: 0.7739 - loss: 0.6297 - val_accuracy: 0.9847 - val_loss: 0.1042\n",
      "Epoch 74/150\n",
      "\u001b[1m238/238\u001b[0m \u001b[32m━━━━━━━━━━━━━━━━━━━━\u001b[0m\u001b[37m\u001b[0m \u001b[1m27s\u001b[0m 114ms/step - accuracy: 0.7712 - loss: 0.6377 - val_accuracy: 0.9834 - val_loss: 0.1102\n",
      "Epoch 75/150\n",
      "\u001b[1m238/238\u001b[0m \u001b[32m━━━━━━━━━━━━━━━━━━━━\u001b[0m\u001b[37m\u001b[0m \u001b[1m28s\u001b[0m 115ms/step - accuracy: 0.7735 - loss: 0.6321 - val_accuracy: 0.9847 - val_loss: 0.1031\n",
      "Epoch 76/150\n",
      "\u001b[1m238/238\u001b[0m \u001b[32m━━━━━━━━━━━━━━━━━━━━\u001b[0m\u001b[37m\u001b[0m \u001b[1m27s\u001b[0m 112ms/step - accuracy: 0.7716 - loss: 0.6333 - val_accuracy: 0.9833 - val_loss: 0.1092\n",
      "Epoch 77/150\n",
      "\u001b[1m238/238\u001b[0m \u001b[32m━━━━━━━━━━━━━━━━━━━━\u001b[0m\u001b[37m\u001b[0m \u001b[1m27s\u001b[0m 114ms/step - accuracy: 0.7698 - loss: 0.6379 - val_accuracy: 0.9812 - val_loss: 0.1084\n",
      "Epoch 78/150\n",
      "\u001b[1m238/238\u001b[0m \u001b[32m━━━━━━━━━━━━━━━━━━━━\u001b[0m\u001b[37m\u001b[0m \u001b[1m26s\u001b[0m 111ms/step - accuracy: 0.7765 - loss: 0.6282 - val_accuracy: 0.9846 - val_loss: 0.1043\n",
      "Epoch 79/150\n",
      "\u001b[1m238/238\u001b[0m \u001b[32m━━━━━━━━━━━━━━━━━━━━\u001b[0m\u001b[37m\u001b[0m \u001b[1m27s\u001b[0m 113ms/step - accuracy: 0.7745 - loss: 0.6233 - val_accuracy: 0.9818 - val_loss: 0.1130\n",
      "Epoch 80/150\n",
      "\u001b[1m238/238\u001b[0m \u001b[32m━━━━━━━━━━━━━━━━━━━━\u001b[0m\u001b[37m\u001b[0m \u001b[1m26s\u001b[0m 109ms/step - accuracy: 0.7784 - loss: 0.6216 - val_accuracy: 0.9845 - val_loss: 0.0984\n",
      "Epoch 81/150\n",
      "\u001b[1m238/238\u001b[0m \u001b[32m━━━━━━━━━━━━━━━━━━━━\u001b[0m\u001b[37m\u001b[0m \u001b[1m27s\u001b[0m 113ms/step - accuracy: 0.7745 - loss: 0.6260 - val_accuracy: 0.9830 - val_loss: 0.1071\n",
      "Epoch 82/150\n",
      "\u001b[1m238/238\u001b[0m \u001b[32m━━━━━━━━━━━━━━━━━━━━\u001b[0m\u001b[37m\u001b[0m \u001b[1m27s\u001b[0m 111ms/step - accuracy: 0.7820 - loss: 0.6155 - val_accuracy: 0.9838 - val_loss: 0.0997\n",
      "Epoch 83/150\n",
      "\u001b[1m238/238\u001b[0m \u001b[32m━━━━━━━━━━━━━━━━━━━━\u001b[0m\u001b[37m\u001b[0m \u001b[1m27s\u001b[0m 113ms/step - accuracy: 0.7762 - loss: 0.6212 - val_accuracy: 0.9843 - val_loss: 0.0947\n",
      "Epoch 84/150\n",
      "\u001b[1m238/238\u001b[0m \u001b[32m━━━━━━━━━━━━━━━━━━━━\u001b[0m\u001b[37m\u001b[0m \u001b[1m27s\u001b[0m 113ms/step - accuracy: 0.7816 - loss: 0.6110 - val_accuracy: 0.9858 - val_loss: 0.0973\n",
      "Epoch 85/150\n",
      "\u001b[1m238/238\u001b[0m \u001b[32m━━━━━━━━━━━━━━━━━━━━\u001b[0m\u001b[37m\u001b[0m \u001b[1m27s\u001b[0m 113ms/step - accuracy: 0.7821 - loss: 0.6093 - val_accuracy: 0.9813 - val_loss: 0.1052\n",
      "Epoch 86/150\n",
      "\u001b[1m238/238\u001b[0m \u001b[32m━━━━━━━━━━━━━━━━━━━━\u001b[0m\u001b[37m\u001b[0m \u001b[1m27s\u001b[0m 114ms/step - accuracy: 0.7796 - loss: 0.6193 - val_accuracy: 0.9859 - val_loss: 0.0982\n",
      "Epoch 87/150\n",
      "\u001b[1m238/238\u001b[0m \u001b[32m━━━━━━━━━━━━━━━━━━━━\u001b[0m\u001b[37m\u001b[0m \u001b[1m27s\u001b[0m 114ms/step - accuracy: 0.7839 - loss: 0.6072 - val_accuracy: 0.9866 - val_loss: 0.0915\n",
      "Epoch 88/150\n",
      "\u001b[1m238/238\u001b[0m \u001b[32m━━━━━━━━━━━━━━━━━━━━\u001b[0m\u001b[37m\u001b[0m \u001b[1m27s\u001b[0m 114ms/step - accuracy: 0.7843 - loss: 0.6177 - val_accuracy: 0.9859 - val_loss: 0.0879\n",
      "Epoch 89/150\n",
      "\u001b[1m238/238\u001b[0m \u001b[32m━━━━━━━━━━━━━━━━━━━━\u001b[0m\u001b[37m\u001b[0m \u001b[1m27s\u001b[0m 111ms/step - accuracy: 0.7822 - loss: 0.6082 - val_accuracy: 0.9857 - val_loss: 0.0924\n",
      "Epoch 90/150\n",
      "\u001b[1m238/238\u001b[0m \u001b[32m━━━━━━━━━━━━━━━━━━━━\u001b[0m\u001b[37m\u001b[0m \u001b[1m27s\u001b[0m 113ms/step - accuracy: 0.7821 - loss: 0.6113 - val_accuracy: 0.9868 - val_loss: 0.0936\n",
      "Epoch 91/150\n",
      "\u001b[1m238/238\u001b[0m \u001b[32m━━━━━━━━━━━━━━━━━━━━\u001b[0m\u001b[37m\u001b[0m \u001b[1m27s\u001b[0m 111ms/step - accuracy: 0.7834 - loss: 0.6047 - val_accuracy: 0.9868 - val_loss: 0.0895\n",
      "Epoch 92/150\n",
      "\u001b[1m238/238\u001b[0m \u001b[32m━━━━━━━━━━━━━━━━━━━━\u001b[0m\u001b[37m\u001b[0m \u001b[1m26s\u001b[0m 111ms/step - accuracy: 0.7842 - loss: 0.6027 - val_accuracy: 0.9848 - val_loss: 0.0903\n",
      "Epoch 93/150\n",
      "\u001b[1m238/238\u001b[0m \u001b[32m━━━━━━━━━━━━━━━━━━━━\u001b[0m\u001b[37m\u001b[0m \u001b[1m27s\u001b[0m 113ms/step - accuracy: 0.7941 - loss: 0.5824 - val_accuracy: 0.9897 - val_loss: 0.0826\n",
      "Epoch 94/150\n",
      "\u001b[1m238/238\u001b[0m \u001b[32m━━━━━━━━━━━━━━━━━━━━\u001b[0m\u001b[37m\u001b[0m \u001b[1m27s\u001b[0m 111ms/step - accuracy: 0.8019 - loss: 0.5577 - val_accuracy: 0.9857 - val_loss: 0.0866\n",
      "Epoch 95/150\n",
      "\u001b[1m238/238\u001b[0m \u001b[32m━━━━━━━━━━━━━━━━━━━━\u001b[0m\u001b[37m\u001b[0m \u001b[1m27s\u001b[0m 114ms/step - accuracy: 0.8038 - loss: 0.5507 - val_accuracy: 0.9875 - val_loss: 0.0793\n",
      "Epoch 96/150\n",
      "\u001b[1m238/238\u001b[0m \u001b[32m━━━━━━━━━━━━━━━━━━━━\u001b[0m\u001b[37m\u001b[0m \u001b[1m27s\u001b[0m 112ms/step - accuracy: 0.8060 - loss: 0.5490 - val_accuracy: 0.9876 - val_loss: 0.0794\n",
      "Epoch 97/150\n",
      "\u001b[1m238/238\u001b[0m \u001b[32m━━━━━━━━━━━━━━━━━━━━\u001b[0m\u001b[37m\u001b[0m \u001b[1m27s\u001b[0m 114ms/step - accuracy: 0.8085 - loss: 0.5436 - val_accuracy: 0.9839 - val_loss: 0.0851\n",
      "Epoch 98/150\n",
      "\u001b[1m238/238\u001b[0m \u001b[32m━━━━━━━━━━━━━━━━━━━━\u001b[0m\u001b[37m\u001b[0m \u001b[1m27s\u001b[0m 112ms/step - accuracy: 0.8065 - loss: 0.5410 - val_accuracy: 0.9879 - val_loss: 0.0737\n",
      "Epoch 99/150\n",
      "\u001b[1m238/238\u001b[0m \u001b[32m━━━━━━━━━━━━━━━━━━━━\u001b[0m\u001b[37m\u001b[0m \u001b[1m27s\u001b[0m 113ms/step - accuracy: 0.8057 - loss: 0.5476 - val_accuracy: 0.9860 - val_loss: 0.0795\n",
      "Epoch 100/150\n",
      "\u001b[1m238/238\u001b[0m \u001b[32m━━━━━━━━━━━━━━━━━━━━\u001b[0m\u001b[37m\u001b[0m \u001b[1m27s\u001b[0m 112ms/step - accuracy: 0.8046 - loss: 0.5499 - val_accuracy: 0.9898 - val_loss: 0.0693\n",
      "Epoch 101/150\n",
      "\u001b[1m238/238\u001b[0m \u001b[32m━━━━━━━━━━━━━━━━━━━━\u001b[0m\u001b[37m\u001b[0m \u001b[1m27s\u001b[0m 115ms/step - accuracy: 0.8135 - loss: 0.5269 - val_accuracy: 0.9893 - val_loss: 0.0690\n",
      "Epoch 102/150\n",
      "\u001b[1m238/238\u001b[0m \u001b[32m━━━━━━━━━━━━━━━━━━━━\u001b[0m\u001b[37m\u001b[0m \u001b[1m27s\u001b[0m 113ms/step - accuracy: 0.8146 - loss: 0.5305 - val_accuracy: 0.9871 - val_loss: 0.0803\n",
      "Epoch 103/150\n",
      "\u001b[1m238/238\u001b[0m \u001b[32m━━━━━━━━━━━━━━━━━━━━\u001b[0m\u001b[37m\u001b[0m \u001b[1m27s\u001b[0m 112ms/step - accuracy: 0.8124 - loss: 0.5358 - val_accuracy: 0.9852 - val_loss: 0.0755\n",
      "Epoch 104/150\n",
      "\u001b[1m238/238\u001b[0m \u001b[32m━━━━━━━━━━━━━━━━━━━━\u001b[0m\u001b[37m\u001b[0m \u001b[1m27s\u001b[0m 115ms/step - accuracy: 0.8069 - loss: 0.5373 - val_accuracy: 0.9880 - val_loss: 0.0703\n",
      "Epoch 105/150\n",
      "\u001b[1m238/238\u001b[0m \u001b[32m━━━━━━━━━━━━━━━━━━━━\u001b[0m\u001b[37m\u001b[0m \u001b[1m27s\u001b[0m 113ms/step - accuracy: 0.8145 - loss: 0.5280 - val_accuracy: 0.9902 - val_loss: 0.0709\n",
      "Epoch 106/150\n",
      "\u001b[1m238/238\u001b[0m \u001b[32m━━━━━━━━━━━━━━━━━━━━\u001b[0m\u001b[37m\u001b[0m \u001b[1m29s\u001b[0m 122ms/step - accuracy: 0.8156 - loss: 0.5214 - val_accuracy: 0.9890 - val_loss: 0.0665\n",
      "Epoch 107/150\n",
      "\u001b[1m238/238\u001b[0m \u001b[32m━━━━━━━━━━━━━━━━━━━━\u001b[0m\u001b[37m\u001b[0m \u001b[1m27s\u001b[0m 115ms/step - accuracy: 0.8134 - loss: 0.5276 - val_accuracy: 0.9878 - val_loss: 0.0712\n",
      "Epoch 108/150\n",
      "\u001b[1m238/238\u001b[0m \u001b[32m━━━━━━━━━━━━━━━━━━━━\u001b[0m\u001b[37m\u001b[0m \u001b[1m28s\u001b[0m 116ms/step - accuracy: 0.8155 - loss: 0.5171 - val_accuracy: 0.9889 - val_loss: 0.0730\n",
      "Epoch 109/150\n",
      "\u001b[1m238/238\u001b[0m \u001b[32m━━━━━━━━━━━━━━━━━━━━\u001b[0m\u001b[37m\u001b[0m \u001b[1m27s\u001b[0m 113ms/step - accuracy: 0.8176 - loss: 0.5130 - val_accuracy: 0.9890 - val_loss: 0.0657\n",
      "Epoch 110/150\n",
      "\u001b[1m238/238\u001b[0m \u001b[32m━━━━━━━━━━━━━━━━━━━━\u001b[0m\u001b[37m\u001b[0m \u001b[1m28s\u001b[0m 117ms/step - accuracy: 0.8179 - loss: 0.5217 - val_accuracy: 0.9919 - val_loss: 0.0681\n",
      "Epoch 111/150\n",
      "\u001b[1m238/238\u001b[0m \u001b[32m━━━━━━━━━━━━━━━━━━━━\u001b[0m\u001b[37m\u001b[0m \u001b[1m27s\u001b[0m 112ms/step - accuracy: 0.8196 - loss: 0.5169 - val_accuracy: 0.9912 - val_loss: 0.0621\n",
      "Epoch 112/150\n",
      "\u001b[1m238/238\u001b[0m \u001b[32m━━━━━━━━━━━━━━━━━━━━\u001b[0m\u001b[37m\u001b[0m \u001b[1m27s\u001b[0m 112ms/step - accuracy: 0.8205 - loss: 0.5129 - val_accuracy: 0.9903 - val_loss: 0.0681\n",
      "Epoch 113/150\n",
      "\u001b[1m238/238\u001b[0m \u001b[32m━━━━━━━━━━━━━━━━━━━━\u001b[0m\u001b[37m\u001b[0m \u001b[1m41s\u001b[0m 112ms/step - accuracy: 0.8182 - loss: 0.5162 - val_accuracy: 0.9905 - val_loss: 0.0654\n",
      "Epoch 114/150\n",
      "\u001b[1m238/238\u001b[0m \u001b[32m━━━━━━━━━━━━━━━━━━━━\u001b[0m\u001b[37m\u001b[0m \u001b[1m27s\u001b[0m 113ms/step - accuracy: 0.8235 - loss: 0.4986 - val_accuracy: 0.9913 - val_loss: 0.0594\n",
      "Epoch 115/150\n",
      "\u001b[1m238/238\u001b[0m \u001b[32m━━━━━━━━━━━━━━━━━━━━\u001b[0m\u001b[37m\u001b[0m \u001b[1m26s\u001b[0m 111ms/step - accuracy: 0.8176 - loss: 0.5099 - val_accuracy: 0.9891 - val_loss: 0.0637\n",
      "Epoch 116/150\n",
      "\u001b[1m238/238\u001b[0m \u001b[32m━━━━━━━━━━━━━━━━━━━━\u001b[0m\u001b[37m\u001b[0m \u001b[1m27s\u001b[0m 113ms/step - accuracy: 0.8222 - loss: 0.5037 - val_accuracy: 0.9892 - val_loss: 0.0642\n",
      "Epoch 117/150\n",
      "\u001b[1m238/238\u001b[0m \u001b[32m━━━━━━━━━━━━━━━━━━━━\u001b[0m\u001b[37m\u001b[0m \u001b[1m27s\u001b[0m 113ms/step - accuracy: 0.8165 - loss: 0.5229 - val_accuracy: 0.9925 - val_loss: 0.0605\n",
      "Epoch 118/150\n",
      "\u001b[1m238/238\u001b[0m \u001b[32m━━━━━━━━━━━━━━━━━━━━\u001b[0m\u001b[37m\u001b[0m \u001b[1m28s\u001b[0m 116ms/step - accuracy: 0.8239 - loss: 0.5048 - val_accuracy: 0.9903 - val_loss: 0.0578\n",
      "Epoch 119/150\n",
      "\u001b[1m238/238\u001b[0m \u001b[32m━━━━━━━━━━━━━━━━━━━━\u001b[0m\u001b[37m\u001b[0m \u001b[1m29s\u001b[0m 121ms/step - accuracy: 0.8214 - loss: 0.5045 - val_accuracy: 0.9881 - val_loss: 0.0677\n",
      "Epoch 120/150\n",
      "\u001b[1m238/238\u001b[0m \u001b[32m━━━━━━━━━━━━━━━━━━━━\u001b[0m\u001b[37m\u001b[0m \u001b[1m28s\u001b[0m 116ms/step - accuracy: 0.8218 - loss: 0.5063 - val_accuracy: 0.9896 - val_loss: 0.0604\n",
      "Epoch 121/150\n",
      "\u001b[1m238/238\u001b[0m \u001b[32m━━━━━━━━━━━━━━━━━━━━\u001b[0m\u001b[37m\u001b[0m \u001b[1m28s\u001b[0m 119ms/step - accuracy: 0.8208 - loss: 0.5039 - val_accuracy: 0.9921 - val_loss: 0.0576\n",
      "Epoch 122/150\n",
      "\u001b[1m238/238\u001b[0m \u001b[32m━━━━━━━━━━━━━━━━━━━━\u001b[0m\u001b[37m\u001b[0m \u001b[1m28s\u001b[0m 119ms/step - accuracy: 0.8233 - loss: 0.5047 - val_accuracy: 0.9895 - val_loss: 0.0607\n",
      "Epoch 123/150\n",
      "\u001b[1m238/238\u001b[0m \u001b[32m━━━━━━━━━━━━━━━━━━━━\u001b[0m\u001b[37m\u001b[0m \u001b[1m28s\u001b[0m 117ms/step - accuracy: 0.8214 - loss: 0.5058 - val_accuracy: 0.9906 - val_loss: 0.0591\n",
      "Epoch 124/150\n",
      "\u001b[1m238/238\u001b[0m \u001b[32m━━━━━━━━━━━━━━━━━━━━\u001b[0m\u001b[37m\u001b[0m \u001b[1m28s\u001b[0m 116ms/step - accuracy: 0.8250 - loss: 0.4974 - val_accuracy: 0.9920 - val_loss: 0.0579\n",
      "Epoch 125/150\n",
      "\u001b[1m238/238\u001b[0m \u001b[32m━━━━━━━━━━━━━━━━━━━━\u001b[0m\u001b[37m\u001b[0m \u001b[1m28s\u001b[0m 117ms/step - accuracy: 0.8276 - loss: 0.4933 - val_accuracy: 0.9917 - val_loss: 0.0596\n",
      "Epoch 126/150\n",
      "\u001b[1m238/238\u001b[0m \u001b[32m━━━━━━━━━━━━━━━━━━━━\u001b[0m\u001b[37m\u001b[0m \u001b[1m27s\u001b[0m 114ms/step - accuracy: 0.8232 - loss: 0.4975 - val_accuracy: 0.9901 - val_loss: 0.0608\n"
     ]
    },
    {
     "data": {
      "text/plain": [
       "<keras.src.callbacks.history.History at 0x7bb64c8098a0>"
      ]
     },
     "execution_count": 7,
     "metadata": {},
     "output_type": "execute_result"
    }
   ],
   "source": [
    "es = EarlyStopping(patience = 5, restore_best_weights=True)\n",
    "\n",
    "\n",
    "model.fit(train_df,validation_data = val_df,epochs = 150, callbacks=es)"
   ]
  },
  {
   "cell_type": "code",
   "execution_count": 8,
   "metadata": {
    "execution": {
     "iopub.execute_input": "2024-10-29T00:19:07.562092Z",
     "iopub.status.busy": "2024-10-29T00:19:07.561654Z",
     "iopub.status.idle": "2024-10-29T00:19:07.628082Z",
     "shell.execute_reply": "2024-10-29T00:19:07.627076Z",
     "shell.execute_reply.started": "2024-10-29T00:19:07.562048Z"
    }
   },
   "outputs": [],
   "source": [
    "save_model(model,'/kaggle/working/ASL_alphabet_basic_model_1.keras')"
   ]
  },
  {
   "cell_type": "code",
   "execution_count": 20,
   "metadata": {
    "execution": {
     "iopub.execute_input": "2024-10-29T00:19:41.120342Z",
     "iopub.status.busy": "2024-10-29T00:19:41.119951Z",
     "iopub.status.idle": "2024-10-29T00:19:41.362541Z",
     "shell.execute_reply": "2024-10-29T00:19:41.361780Z",
     "shell.execute_reply.started": "2024-10-29T00:19:41.120307Z"
    }
   },
   "outputs": [],
   "source": [
    "loaded_model = load_model('ASL_alphabet_aug.keras')"
   ]
  },
  {
   "cell_type": "code",
   "execution_count": 13,
   "metadata": {},
   "outputs": [
    {
     "name": "stdout",
     "output_type": "stream",
     "text": [
      "Found 113 files belonging to 29 classes.\n"
     ]
    }
   ],
   "source": [
    "test_df = image_dataset_from_directory(\"/home/diana/code/Koriza274/sign_language_interpreter/raw_data/Test\",labels ='inferred',label_mode = 'categorical',\n",
    "                                        seed =123,image_size=(80,80),batch_size = 256)"
   ]
  },
  {
   "cell_type": "code",
   "execution_count": 21,
   "metadata": {},
   "outputs": [
    {
     "name": "stdout",
     "output_type": "stream",
     "text": [
      "\u001b[1m1/1\u001b[0m \u001b[32m━━━━━━━━━━━━━━━━━━━━\u001b[0m\u001b[37m\u001b[0m \u001b[1m0s\u001b[0m 399ms/step - accuracy: 0.2478 - loss: 6.3436\n"
     ]
    },
    {
     "data": {
      "text/plain": [
       "[6.343647003173828, 0.24778760969638824]"
      ]
     },
     "execution_count": 21,
     "metadata": {},
     "output_type": "execute_result"
    }
   ],
   "source": [
    "loaded_model.evaluate(test_df)"
   ]
  },
  {
   "cell_type": "code",
   "execution_count": 24,
   "metadata": {},
   "outputs": [],
   "source": [
    "from PIL import Image\n",
    "img = Image.open('k.jpg')\n",
    "img = img.resize((80,80))\n",
    "img = img_to_array(img)\n",
    "img = img.reshape((-1,80,80,3))"
   ]
  },
  {
   "cell_type": "code",
   "execution_count": 25,
   "metadata": {},
   "outputs": [
    {
     "name": "stdout",
     "output_type": "stream",
     "text": [
      "\u001b[1m1/1\u001b[0m \u001b[32m━━━━━━━━━━━━━━━━━━━━\u001b[0m\u001b[37m\u001b[0m \u001b[1m0s\u001b[0m 21ms/step\n"
     ]
    }
   ],
   "source": [
    "res = loaded_model.predict(img)[0].round(2)\n"
   ]
  },
  {
   "cell_type": "code",
   "execution_count": 26,
   "metadata": {},
   "outputs": [
    {
     "data": {
      "text/html": [
       "<div>\n",
       "<style scoped>\n",
       "    .dataframe tbody tr th:only-of-type {\n",
       "        vertical-align: middle;\n",
       "    }\n",
       "\n",
       "    .dataframe tbody tr th {\n",
       "        vertical-align: top;\n",
       "    }\n",
       "\n",
       "    .dataframe thead th {\n",
       "        text-align: right;\n",
       "    }\n",
       "</style>\n",
       "<table border=\"1\" class=\"dataframe\">\n",
       "  <thead>\n",
       "    <tr style=\"text-align: right;\">\n",
       "      <th></th>\n",
       "      <th>weight</th>\n",
       "    </tr>\n",
       "  </thead>\n",
       "  <tbody>\n",
       "    <tr>\n",
       "      <th>s</th>\n",
       "      <td>0.56</td>\n",
       "    </tr>\n",
       "    <tr>\n",
       "      <th>u</th>\n",
       "      <td>0.33</td>\n",
       "    </tr>\n",
       "    <tr>\n",
       "      <th>x</th>\n",
       "      <td>0.12</td>\n",
       "    </tr>\n",
       "    <tr>\n",
       "      <th>b</th>\n",
       "      <td>0.00</td>\n",
       "    </tr>\n",
       "    <tr>\n",
       "      <th>a</th>\n",
       "      <td>0.00</td>\n",
       "    </tr>\n",
       "    <tr>\n",
       "      <th>f</th>\n",
       "      <td>0.00</td>\n",
       "    </tr>\n",
       "    <tr>\n",
       "      <th>g</th>\n",
       "      <td>0.00</td>\n",
       "    </tr>\n",
       "    <tr>\n",
       "      <th>h</th>\n",
       "      <td>0.00</td>\n",
       "    </tr>\n",
       "    <tr>\n",
       "      <th>i</th>\n",
       "      <td>0.00</td>\n",
       "    </tr>\n",
       "    <tr>\n",
       "      <th>j</th>\n",
       "      <td>0.00</td>\n",
       "    </tr>\n",
       "    <tr>\n",
       "      <th>c</th>\n",
       "      <td>0.00</td>\n",
       "    </tr>\n",
       "    <tr>\n",
       "      <th>d</th>\n",
       "      <td>0.00</td>\n",
       "    </tr>\n",
       "    <tr>\n",
       "      <th>e</th>\n",
       "      <td>0.00</td>\n",
       "    </tr>\n",
       "    <tr>\n",
       "      <th>m</th>\n",
       "      <td>0.00</td>\n",
       "    </tr>\n",
       "    <tr>\n",
       "      <th>l</th>\n",
       "      <td>0.00</td>\n",
       "    </tr>\n",
       "    <tr>\n",
       "      <th>k</th>\n",
       "      <td>0.00</td>\n",
       "    </tr>\n",
       "    <tr>\n",
       "      <th>n</th>\n",
       "      <td>0.00</td>\n",
       "    </tr>\n",
       "    <tr>\n",
       "      <th>q</th>\n",
       "      <td>0.00</td>\n",
       "    </tr>\n",
       "    <tr>\n",
       "      <th>p</th>\n",
       "      <td>0.00</td>\n",
       "    </tr>\n",
       "    <tr>\n",
       "      <th>r</th>\n",
       "      <td>0.00</td>\n",
       "    </tr>\n",
       "    <tr>\n",
       "      <th>o</th>\n",
       "      <td>0.00</td>\n",
       "    </tr>\n",
       "    <tr>\n",
       "      <th>t</th>\n",
       "      <td>0.00</td>\n",
       "    </tr>\n",
       "    <tr>\n",
       "      <th>v</th>\n",
       "      <td>0.00</td>\n",
       "    </tr>\n",
       "    <tr>\n",
       "      <th>w</th>\n",
       "      <td>0.00</td>\n",
       "    </tr>\n",
       "    <tr>\n",
       "      <th>y</th>\n",
       "      <td>0.00</td>\n",
       "    </tr>\n",
       "    <tr>\n",
       "      <th>z</th>\n",
       "      <td>0.00</td>\n",
       "    </tr>\n",
       "    <tr>\n",
       "      <th>del</th>\n",
       "      <td>0.00</td>\n",
       "    </tr>\n",
       "    <tr>\n",
       "      <th>nothing</th>\n",
       "      <td>0.00</td>\n",
       "    </tr>\n",
       "    <tr>\n",
       "      <th>space</th>\n",
       "      <td>0.00</td>\n",
       "    </tr>\n",
       "  </tbody>\n",
       "</table>\n",
       "</div>"
      ],
      "text/plain": [
       "         weight\n",
       "s          0.56\n",
       "u          0.33\n",
       "x          0.12\n",
       "b          0.00\n",
       "a          0.00\n",
       "f          0.00\n",
       "g          0.00\n",
       "h          0.00\n",
       "i          0.00\n",
       "j          0.00\n",
       "c          0.00\n",
       "d          0.00\n",
       "e          0.00\n",
       "m          0.00\n",
       "l          0.00\n",
       "k          0.00\n",
       "n          0.00\n",
       "q          0.00\n",
       "p          0.00\n",
       "r          0.00\n",
       "o          0.00\n",
       "t          0.00\n",
       "v          0.00\n",
       "w          0.00\n",
       "y          0.00\n",
       "z          0.00\n",
       "del        0.00\n",
       "nothing    0.00\n",
       "space      0.00"
      ]
     },
     "execution_count": 26,
     "metadata": {},
     "output_type": "execute_result"
    }
   ],
   "source": [
    "alphabet=['a','b','c','d','e','f','g','h','i','j','k','l','m','n','o','p','q','r','s','t','u','v','w','x','y','z','del','nothing','space']\n",
    "prediction = pd.DataFrame(res,index=alphabet,columns =['weight'])\n",
    "prediction.sort_values(by = 'weight',ascending = False)"
   ]
  }
 ],
 "metadata": {
  "kaggle": {
   "accelerator": "nvidiaTeslaT4",
   "dataSources": [
    {
     "datasetId": 23079,
     "sourceId": 29550,
     "sourceType": "datasetVersion"
    }
   ],
   "dockerImageVersionId": 30787,
   "isGpuEnabled": true,
   "isInternetEnabled": true,
   "language": "python",
   "sourceType": "notebook"
  },
  "kernelspec": {
   "display_name": "Python 3 (ipykernel)",
   "language": "python",
   "name": "python3"
  },
  "language_info": {
   "codemirror_mode": {
    "name": "ipython",
    "version": 3
   },
   "file_extension": ".py",
   "mimetype": "text/x-python",
   "name": "python",
   "nbconvert_exporter": "python",
   "pygments_lexer": "ipython3",
   "version": "3.10.6"
  },
  "toc": {
   "base_numbering": 1,
   "nav_menu": {},
   "number_sections": true,
   "sideBar": true,
   "skip_h1_title": false,
   "title_cell": "Table of Contents",
   "title_sidebar": "Contents",
   "toc_cell": false,
   "toc_position": {},
   "toc_section_display": true,
   "toc_window_display": false
  }
 },
 "nbformat": 4,
 "nbformat_minor": 4
}
